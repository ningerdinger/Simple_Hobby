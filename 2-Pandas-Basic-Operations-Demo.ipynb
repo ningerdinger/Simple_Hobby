{
 "cells": [
  {
   "cell_type": "markdown",
   "metadata": {},
   "source": [
    "---\n",
    "\n",
    "<img src=\"./images/anchormen-logo.png\" width=\"500\">\n",
    "\n",
    "---"
   ]
  },
  {
   "cell_type": "markdown",
   "metadata": {},
   "source": [
    "# Basic Pandas Operations\n",
    "\n",
    "This Notebook outlines some basic operations in pandas. The following topics will be covered:\n",
    "\n",
    "- A. **Creating DataFrames**\n",
    "- B. **Selecting and Sorting**\n",
    "- C. **Modifying Data**\n",
    "- D. **Grouped Operations**\n",
    "- E. **Long/Wide Conversions**\n",
    "- F. **Combining DataFrames**"
   ]
  },
  {
   "cell_type": "markdown",
   "metadata": {},
   "source": [
    "## Pandas intro\n",
    "\n",
    "`pandas` is one of the most used Python libraries for data manipulation and analysis and is built on top of `NumPy`. `NumPy` by itself is a fairly low-level tool, and will be very much similar to using MATLAB. pandas on the other hand provides rich time series functionality, data alignment, NA-friendly statistics, groupby, merge and join methods, and lots of other conveniences.\n",
    "\n",
    "`pandas` was created by Wes McKinney, also the author of 'Python for Data Analysis' (see references).\n",
    "\n",
    "\n",
    "### Data Structures\n",
    "\n",
    "The most important data structures in `pandas` are:\n",
    "\n",
    "- `DataFrames`: array-like structure, which consists of columns that are pandas `Series`\n",
    "- `Series`: one-dimensional labeled array capable of holding any data type (integers, strings, floating point numbers, Python objects, ..)\n",
    "\n",
    "The focus of this notebook will be on working with `DataFrames`."
   ]
  },
  {
   "cell_type": "markdown",
   "metadata": {},
   "source": [
    "## A: Creating DataFrames"
   ]
  },
  {
   "cell_type": "markdown",
   "metadata": {},
   "source": [
    "Let's start by importing some libraries. Our focus will be on the `pandas` library."
   ]
  },
  {
   "cell_type": "code",
   "execution_count": 1,
   "metadata": {},
   "outputs": [],
   "source": [
    "import pandas as pd\n",
    "import numpy as np"
   ]
  },
  {
   "cell_type": "markdown",
   "metadata": {
    "collapsed": true
   },
   "source": [
    "### Creating DataFrames\n",
    "\n",
    "Dataframes can be constructed in many ways, from a dictionary of equal length lists, from a excel file etc."
   ]
  },
  {
   "cell_type": "code",
   "execution_count": 2,
   "metadata": {},
   "outputs": [],
   "source": [
    "# One way to create a pandas DataFrame \n",
    "df = pd.DataFrame(np.random.randn(4,4), \n",
    "                  columns=['var1', 'var2', 'var3', 'var4'], \n",
    "                  index = ['observation1', 'observation2', 'observation3', 'observation4'])"
   ]
  },
  {
   "cell_type": "code",
   "execution_count": 3,
   "metadata": {},
   "outputs": [
    {
     "data": {
      "text/plain": [
       "pandas.core.frame.DataFrame"
      ]
     },
     "execution_count": 3,
     "metadata": {},
     "output_type": "execute_result"
    }
   ],
   "source": [
    "type(df)"
   ]
  },
  {
   "cell_type": "code",
   "execution_count": 4,
   "metadata": {},
   "outputs": [
    {
     "data": {
      "text/html": [
       "<div>\n",
       "<style scoped>\n",
       "    .dataframe tbody tr th:only-of-type {\n",
       "        vertical-align: middle;\n",
       "    }\n",
       "\n",
       "    .dataframe tbody tr th {\n",
       "        vertical-align: top;\n",
       "    }\n",
       "\n",
       "    .dataframe thead th {\n",
       "        text-align: right;\n",
       "    }\n",
       "</style>\n",
       "<table border=\"1\" class=\"dataframe\">\n",
       "  <thead>\n",
       "    <tr style=\"text-align: right;\">\n",
       "      <th></th>\n",
       "      <th>var1</th>\n",
       "      <th>var2</th>\n",
       "      <th>var3</th>\n",
       "      <th>var4</th>\n",
       "    </tr>\n",
       "  </thead>\n",
       "  <tbody>\n",
       "    <tr>\n",
       "      <th>observation1</th>\n",
       "      <td>-0.220395</td>\n",
       "      <td>1.146229</td>\n",
       "      <td>0.443293</td>\n",
       "      <td>-1.224787</td>\n",
       "    </tr>\n",
       "    <tr>\n",
       "      <th>observation2</th>\n",
       "      <td>-0.369083</td>\n",
       "      <td>0.686999</td>\n",
       "      <td>-1.071056</td>\n",
       "      <td>-0.863190</td>\n",
       "    </tr>\n",
       "    <tr>\n",
       "      <th>observation3</th>\n",
       "      <td>-1.257075</td>\n",
       "      <td>-2.091312</td>\n",
       "      <td>-0.651120</td>\n",
       "      <td>-0.532363</td>\n",
       "    </tr>\n",
       "    <tr>\n",
       "      <th>observation4</th>\n",
       "      <td>-0.674821</td>\n",
       "      <td>0.063806</td>\n",
       "      <td>0.334175</td>\n",
       "      <td>-0.170289</td>\n",
       "    </tr>\n",
       "  </tbody>\n",
       "</table>\n",
       "</div>"
      ],
      "text/plain": [
       "                  var1      var2      var3      var4\n",
       "observation1 -0.220395  1.146229  0.443293 -1.224787\n",
       "observation2 -0.369083  0.686999 -1.071056 -0.863190\n",
       "observation3 -1.257075 -2.091312 -0.651120 -0.532363\n",
       "observation4 -0.674821  0.063806  0.334175 -0.170289"
      ]
     },
     "execution_count": 4,
     "metadata": {},
     "output_type": "execute_result"
    }
   ],
   "source": [
    "df"
   ]
  },
  {
   "cell_type": "markdown",
   "metadata": {},
   "source": [
    "### Indexing"
   ]
  },
  {
   "cell_type": "code",
   "execution_count": 5,
   "metadata": {},
   "outputs": [
    {
     "data": {
      "text/html": [
       "<div>\n",
       "<style scoped>\n",
       "    .dataframe tbody tr th:only-of-type {\n",
       "        vertical-align: middle;\n",
       "    }\n",
       "\n",
       "    .dataframe tbody tr th {\n",
       "        vertical-align: top;\n",
       "    }\n",
       "\n",
       "    .dataframe thead th {\n",
       "        text-align: right;\n",
       "    }\n",
       "</style>\n",
       "<table border=\"1\" class=\"dataframe\">\n",
       "  <thead>\n",
       "    <tr style=\"text-align: right;\">\n",
       "      <th></th>\n",
       "      <th>var2</th>\n",
       "      <th>var3</th>\n",
       "      <th>var4</th>\n",
       "    </tr>\n",
       "    <tr>\n",
       "      <th>var1</th>\n",
       "      <th></th>\n",
       "      <th></th>\n",
       "      <th></th>\n",
       "    </tr>\n",
       "  </thead>\n",
       "  <tbody>\n",
       "    <tr>\n",
       "      <th>-0.220395</th>\n",
       "      <td>1.146229</td>\n",
       "      <td>0.443293</td>\n",
       "      <td>-1.224787</td>\n",
       "    </tr>\n",
       "    <tr>\n",
       "      <th>-0.369083</th>\n",
       "      <td>0.686999</td>\n",
       "      <td>-1.071056</td>\n",
       "      <td>-0.863190</td>\n",
       "    </tr>\n",
       "    <tr>\n",
       "      <th>-1.257075</th>\n",
       "      <td>-2.091312</td>\n",
       "      <td>-0.651120</td>\n",
       "      <td>-0.532363</td>\n",
       "    </tr>\n",
       "    <tr>\n",
       "      <th>-0.674821</th>\n",
       "      <td>0.063806</td>\n",
       "      <td>0.334175</td>\n",
       "      <td>-0.170289</td>\n",
       "    </tr>\n",
       "  </tbody>\n",
       "</table>\n",
       "</div>"
      ],
      "text/plain": [
       "               var2      var3      var4\n",
       "var1                                   \n",
       "-0.220395  1.146229  0.443293 -1.224787\n",
       "-0.369083  0.686999 -1.071056 -0.863190\n",
       "-1.257075 -2.091312 -0.651120 -0.532363\n",
       "-0.674821  0.063806  0.334175 -0.170289"
      ]
     },
     "execution_count": 5,
     "metadata": {},
     "output_type": "execute_result"
    }
   ],
   "source": [
    "# It's possible to set the index to one of the columns\n",
    "df.set_index('var1', inplace=True)\n",
    "df"
   ]
  },
  {
   "cell_type": "code",
   "execution_count": 6,
   "metadata": {},
   "outputs": [
    {
     "data": {
      "text/html": [
       "<div>\n",
       "<style scoped>\n",
       "    .dataframe tbody tr th:only-of-type {\n",
       "        vertical-align: middle;\n",
       "    }\n",
       "\n",
       "    .dataframe tbody tr th {\n",
       "        vertical-align: top;\n",
       "    }\n",
       "\n",
       "    .dataframe thead th {\n",
       "        text-align: right;\n",
       "    }\n",
       "</style>\n",
       "<table border=\"1\" class=\"dataframe\">\n",
       "  <thead>\n",
       "    <tr style=\"text-align: right;\">\n",
       "      <th></th>\n",
       "      <th>var1</th>\n",
       "      <th>var2</th>\n",
       "      <th>var3</th>\n",
       "      <th>var4</th>\n",
       "    </tr>\n",
       "  </thead>\n",
       "  <tbody>\n",
       "    <tr>\n",
       "      <th>0</th>\n",
       "      <td>-0.220395</td>\n",
       "      <td>1.146229</td>\n",
       "      <td>0.443293</td>\n",
       "      <td>-1.224787</td>\n",
       "    </tr>\n",
       "    <tr>\n",
       "      <th>1</th>\n",
       "      <td>-0.369083</td>\n",
       "      <td>0.686999</td>\n",
       "      <td>-1.071056</td>\n",
       "      <td>-0.863190</td>\n",
       "    </tr>\n",
       "    <tr>\n",
       "      <th>2</th>\n",
       "      <td>-1.257075</td>\n",
       "      <td>-2.091312</td>\n",
       "      <td>-0.651120</td>\n",
       "      <td>-0.532363</td>\n",
       "    </tr>\n",
       "    <tr>\n",
       "      <th>3</th>\n",
       "      <td>-0.674821</td>\n",
       "      <td>0.063806</td>\n",
       "      <td>0.334175</td>\n",
       "      <td>-0.170289</td>\n",
       "    </tr>\n",
       "  </tbody>\n",
       "</table>\n",
       "</div>"
      ],
      "text/plain": [
       "       var1      var2      var3      var4\n",
       "0 -0.220395  1.146229  0.443293 -1.224787\n",
       "1 -0.369083  0.686999 -1.071056 -0.863190\n",
       "2 -1.257075 -2.091312 -0.651120 -0.532363\n",
       "3 -0.674821  0.063806  0.334175 -0.170289"
      ]
     },
     "execution_count": 6,
     "metadata": {},
     "output_type": "execute_result"
    }
   ],
   "source": [
    "# Resetting the index again\n",
    "df.reset_index()"
   ]
  },
  {
   "cell_type": "code",
   "execution_count": 7,
   "metadata": {},
   "outputs": [],
   "source": [
    "# Create indexed dataframe again before we continue\n",
    "df = pd.DataFrame(np.random.randn(4,4), \n",
    "                  columns=['var1', 'var2', 'var3', 'var4'], \n",
    "                  index = ['observation1', 'observation2', 'observation3', 'observation4'])"
   ]
  },
  {
   "cell_type": "markdown",
   "metadata": {},
   "source": [
    "### Summary Part A (Creating DataFrames)\n",
    "\n",
    "**We learned how to**:\n",
    "\n",
    "- import the pandas library\n",
    "- create a DataFrame\n",
    "- set and reset an index on the DataFrame\n",
    "\n",
    "**And encountered the following pandas data type**:\n",
    "\n",
    "- pandas.core.frame.DataFrame\n",
    "\n",
    "**Making use of the following commands and methods**:\n",
    "```\n",
    "- import pandas as pd\n",
    "- pd.DataFrame()\n",
    "- df.set_index()\n",
    "- df.reset_index()\n",
    "```"
   ]
  },
  {
   "cell_type": "markdown",
   "metadata": {},
   "source": [
    "##  B: Selecting and Sorting"
   ]
  },
  {
   "cell_type": "markdown",
   "metadata": {},
   "source": [
    "### Column Selection"
   ]
  },
  {
   "cell_type": "code",
   "execution_count": 8,
   "metadata": {},
   "outputs": [
    {
     "data": {
      "text/plain": [
       "observation1   -1.033894\n",
       "observation2   -0.166223\n",
       "observation3    0.788574\n",
       "observation4   -1.210072\n",
       "Name: var1, dtype: float64"
      ]
     },
     "execution_count": 8,
     "metadata": {},
     "output_type": "execute_result"
    }
   ],
   "source": [
    "# Select the first column \n",
    "df['var1']"
   ]
  },
  {
   "cell_type": "code",
   "execution_count": 9,
   "metadata": {},
   "outputs": [
    {
     "data": {
      "text/plain": [
       "pandas.core.series.Series"
      ]
     },
     "execution_count": 9,
     "metadata": {},
     "output_type": "execute_result"
    }
   ],
   "source": [
    "# Note that DataFrame columns are of type Series\n",
    "type(df['var1'])"
   ]
  },
  {
   "cell_type": "code",
   "execution_count": 10,
   "metadata": {},
   "outputs": [
    {
     "data": {
      "text/html": [
       "<div>\n",
       "<style scoped>\n",
       "    .dataframe tbody tr th:only-of-type {\n",
       "        vertical-align: middle;\n",
       "    }\n",
       "\n",
       "    .dataframe tbody tr th {\n",
       "        vertical-align: top;\n",
       "    }\n",
       "\n",
       "    .dataframe thead th {\n",
       "        text-align: right;\n",
       "    }\n",
       "</style>\n",
       "<table border=\"1\" class=\"dataframe\">\n",
       "  <thead>\n",
       "    <tr style=\"text-align: right;\">\n",
       "      <th></th>\n",
       "      <th>var1</th>\n",
       "      <th>var3</th>\n",
       "    </tr>\n",
       "  </thead>\n",
       "  <tbody>\n",
       "    <tr>\n",
       "      <th>observation1</th>\n",
       "      <td>-1.033894</td>\n",
       "      <td>-1.421882</td>\n",
       "    </tr>\n",
       "    <tr>\n",
       "      <th>observation2</th>\n",
       "      <td>-0.166223</td>\n",
       "      <td>0.563013</td>\n",
       "    </tr>\n",
       "    <tr>\n",
       "      <th>observation3</th>\n",
       "      <td>0.788574</td>\n",
       "      <td>0.543387</td>\n",
       "    </tr>\n",
       "    <tr>\n",
       "      <th>observation4</th>\n",
       "      <td>-1.210072</td>\n",
       "      <td>-0.232154</td>\n",
       "    </tr>\n",
       "  </tbody>\n",
       "</table>\n",
       "</div>"
      ],
      "text/plain": [
       "                  var1      var3\n",
       "observation1 -1.033894 -1.421882\n",
       "observation2 -0.166223  0.563013\n",
       "observation3  0.788574  0.543387\n",
       "observation4 -1.210072 -0.232154"
      ]
     },
     "execution_count": 10,
     "metadata": {},
     "output_type": "execute_result"
    }
   ],
   "source": [
    "# Select multiple columns, pass in a list with column names\n",
    "df[['var1', 'var3']]"
   ]
  },
  {
   "cell_type": "markdown",
   "metadata": {},
   "source": [
    "### Row Selection"
   ]
  },
  {
   "cell_type": "code",
   "execution_count": 11,
   "metadata": {},
   "outputs": [
    {
     "data": {
      "text/plain": [
       "var1   -1.210072\n",
       "var2   -0.732834\n",
       "var3   -0.232154\n",
       "var4   -0.553107\n",
       "Name: observation4, dtype: float64"
      ]
     },
     "execution_count": 11,
     "metadata": {},
     "output_type": "execute_result"
    }
   ],
   "source": [
    "# Select a row \n",
    "df.loc['observation4']"
   ]
  },
  {
   "cell_type": "code",
   "execution_count": 12,
   "metadata": {},
   "outputs": [
    {
     "data": {
      "text/plain": [
       "var1    0.788574\n",
       "var2   -1.009404\n",
       "var3    0.543387\n",
       "var4   -0.063707\n",
       "Name: observation3, dtype: float64"
      ]
     },
     "execution_count": 12,
     "metadata": {},
     "output_type": "execute_result"
    }
   ],
   "source": [
    "# Select a row based on index position\n",
    "df.iloc[2]"
   ]
  },
  {
   "cell_type": "markdown",
   "metadata": {},
   "source": [
    "### Select combination of rows and columns"
   ]
  },
  {
   "cell_type": "code",
   "execution_count": 13,
   "metadata": {},
   "outputs": [
    {
     "data": {
      "text/plain": [
       "-0.7328341829307481"
      ]
     },
     "execution_count": 13,
     "metadata": {},
     "output_type": "execute_result"
    }
   ],
   "source": [
    "# Select subset of rows and columns \n",
    "df.loc['observation4', 'var2']"
   ]
  },
  {
   "cell_type": "code",
   "execution_count": 14,
   "metadata": {},
   "outputs": [
    {
     "data": {
      "text/html": [
       "<div>\n",
       "<style scoped>\n",
       "    .dataframe tbody tr th:only-of-type {\n",
       "        vertical-align: middle;\n",
       "    }\n",
       "\n",
       "    .dataframe tbody tr th {\n",
       "        vertical-align: top;\n",
       "    }\n",
       "\n",
       "    .dataframe thead th {\n",
       "        text-align: right;\n",
       "    }\n",
       "</style>\n",
       "<table border=\"1\" class=\"dataframe\">\n",
       "  <thead>\n",
       "    <tr style=\"text-align: right;\">\n",
       "      <th></th>\n",
       "      <th>var1</th>\n",
       "      <th>var2</th>\n",
       "      <th>var3</th>\n",
       "    </tr>\n",
       "  </thead>\n",
       "  <tbody>\n",
       "    <tr>\n",
       "      <th>observation3</th>\n",
       "      <td>0.788574</td>\n",
       "      <td>-1.009404</td>\n",
       "      <td>0.543387</td>\n",
       "    </tr>\n",
       "    <tr>\n",
       "      <th>observation4</th>\n",
       "      <td>-1.210072</td>\n",
       "      <td>-0.732834</td>\n",
       "      <td>-0.232154</td>\n",
       "    </tr>\n",
       "  </tbody>\n",
       "</table>\n",
       "</div>"
      ],
      "text/plain": [
       "                  var1      var2      var3\n",
       "observation3  0.788574 -1.009404  0.543387\n",
       "observation4 -1.210072 -0.732834 -0.232154"
      ]
     },
     "execution_count": 14,
     "metadata": {},
     "output_type": "execute_result"
    }
   ],
   "source": [
    "# Select multiple specific rows and columns \n",
    "df.loc[['observation3', 'observation4'], ['var1', 'var2','var3']]"
   ]
  },
  {
   "cell_type": "markdown",
   "metadata": {},
   "source": [
    "### Conditional Selection "
   ]
  },
  {
   "cell_type": "code",
   "execution_count": 15,
   "metadata": {},
   "outputs": [
    {
     "data": {
      "text/html": [
       "<div>\n",
       "<style scoped>\n",
       "    .dataframe tbody tr th:only-of-type {\n",
       "        vertical-align: middle;\n",
       "    }\n",
       "\n",
       "    .dataframe tbody tr th {\n",
       "        vertical-align: top;\n",
       "    }\n",
       "\n",
       "    .dataframe thead th {\n",
       "        text-align: right;\n",
       "    }\n",
       "</style>\n",
       "<table border=\"1\" class=\"dataframe\">\n",
       "  <thead>\n",
       "    <tr style=\"text-align: right;\">\n",
       "      <th></th>\n",
       "      <th>var1</th>\n",
       "      <th>var2</th>\n",
       "      <th>var3</th>\n",
       "      <th>var4</th>\n",
       "    </tr>\n",
       "  </thead>\n",
       "  <tbody>\n",
       "    <tr>\n",
       "      <th>observation1</th>\n",
       "      <td>-1.033894</td>\n",
       "      <td>2.436842</td>\n",
       "      <td>-1.421882</td>\n",
       "      <td>-1.416353</td>\n",
       "    </tr>\n",
       "    <tr>\n",
       "      <th>observation2</th>\n",
       "      <td>-0.166223</td>\n",
       "      <td>-0.092110</td>\n",
       "      <td>0.563013</td>\n",
       "      <td>0.908918</td>\n",
       "    </tr>\n",
       "    <tr>\n",
       "      <th>observation3</th>\n",
       "      <td>0.788574</td>\n",
       "      <td>-1.009404</td>\n",
       "      <td>0.543387</td>\n",
       "      <td>-0.063707</td>\n",
       "    </tr>\n",
       "    <tr>\n",
       "      <th>observation4</th>\n",
       "      <td>-1.210072</td>\n",
       "      <td>-0.732834</td>\n",
       "      <td>-0.232154</td>\n",
       "      <td>-0.553107</td>\n",
       "    </tr>\n",
       "  </tbody>\n",
       "</table>\n",
       "</div>"
      ],
      "text/plain": [
       "                  var1      var2      var3      var4\n",
       "observation1 -1.033894  2.436842 -1.421882 -1.416353\n",
       "observation2 -0.166223 -0.092110  0.563013  0.908918\n",
       "observation3  0.788574 -1.009404  0.543387 -0.063707\n",
       "observation4 -1.210072 -0.732834 -0.232154 -0.553107"
      ]
     },
     "execution_count": 15,
     "metadata": {},
     "output_type": "execute_result"
    }
   ],
   "source": [
    "# Complete dataframe\n",
    "df"
   ]
  },
  {
   "cell_type": "code",
   "execution_count": 16,
   "metadata": {},
   "outputs": [
    {
     "data": {
      "text/plain": [
       "observation1    False\n",
       "observation2     True\n",
       "observation3     True\n",
       "observation4    False\n",
       "Name: var1, dtype: bool"
      ]
     },
     "execution_count": 16,
     "metadata": {},
     "output_type": "execute_result"
    }
   ],
   "source": [
    "# Condition\n",
    "df['var1']>-1"
   ]
  },
  {
   "cell_type": "code",
   "execution_count": 17,
   "metadata": {},
   "outputs": [
    {
     "data": {
      "text/html": [
       "<div>\n",
       "<style scoped>\n",
       "    .dataframe tbody tr th:only-of-type {\n",
       "        vertical-align: middle;\n",
       "    }\n",
       "\n",
       "    .dataframe tbody tr th {\n",
       "        vertical-align: top;\n",
       "    }\n",
       "\n",
       "    .dataframe thead th {\n",
       "        text-align: right;\n",
       "    }\n",
       "</style>\n",
       "<table border=\"1\" class=\"dataframe\">\n",
       "  <thead>\n",
       "    <tr style=\"text-align: right;\">\n",
       "      <th></th>\n",
       "      <th>var1</th>\n",
       "      <th>var2</th>\n",
       "      <th>var3</th>\n",
       "      <th>var4</th>\n",
       "    </tr>\n",
       "  </thead>\n",
       "  <tbody>\n",
       "    <tr>\n",
       "      <th>observation2</th>\n",
       "      <td>-0.166223</td>\n",
       "      <td>-0.092110</td>\n",
       "      <td>0.563013</td>\n",
       "      <td>0.908918</td>\n",
       "    </tr>\n",
       "    <tr>\n",
       "      <th>observation3</th>\n",
       "      <td>0.788574</td>\n",
       "      <td>-1.009404</td>\n",
       "      <td>0.543387</td>\n",
       "      <td>-0.063707</td>\n",
       "    </tr>\n",
       "  </tbody>\n",
       "</table>\n",
       "</div>"
      ],
      "text/plain": [
       "                  var1      var2      var3      var4\n",
       "observation2 -0.166223 -0.092110  0.563013  0.908918\n",
       "observation3  0.788574 -1.009404  0.543387 -0.063707"
      ]
     },
     "execution_count": 17,
     "metadata": {},
     "output_type": "execute_result"
    }
   ],
   "source": [
    "# Select rows with condition True\n",
    "df[df['var1']>-1]"
   ]
  },
  {
   "cell_type": "code",
   "execution_count": 18,
   "metadata": {},
   "outputs": [
    {
     "data": {
      "text/html": [
       "<div>\n",
       "<style scoped>\n",
       "    .dataframe tbody tr th:only-of-type {\n",
       "        vertical-align: middle;\n",
       "    }\n",
       "\n",
       "    .dataframe tbody tr th {\n",
       "        vertical-align: top;\n",
       "    }\n",
       "\n",
       "    .dataframe thead th {\n",
       "        text-align: right;\n",
       "    }\n",
       "</style>\n",
       "<table border=\"1\" class=\"dataframe\">\n",
       "  <thead>\n",
       "    <tr style=\"text-align: right;\">\n",
       "      <th></th>\n",
       "      <th>var1</th>\n",
       "      <th>var2</th>\n",
       "      <th>var3</th>\n",
       "      <th>var4</th>\n",
       "    </tr>\n",
       "  </thead>\n",
       "  <tbody>\n",
       "    <tr>\n",
       "      <th>observation2</th>\n",
       "      <td>-0.166223</td>\n",
       "      <td>-0.09211</td>\n",
       "      <td>0.563013</td>\n",
       "      <td>0.908918</td>\n",
       "    </tr>\n",
       "  </tbody>\n",
       "</table>\n",
       "</div>"
      ],
      "text/plain": [
       "                  var1     var2      var3      var4\n",
       "observation2 -0.166223 -0.09211  0.563013  0.908918"
      ]
     },
     "execution_count": 18,
     "metadata": {},
     "output_type": "execute_result"
    }
   ],
   "source": [
    "# Logical conditions\n",
    "df[(df['var1']<2) & (df['var4']>=0)]"
   ]
  },
  {
   "cell_type": "markdown",
   "metadata": {},
   "source": [
    "### Sorting"
   ]
  },
  {
   "cell_type": "code",
   "execution_count": 19,
   "metadata": {},
   "outputs": [
    {
     "data": {
      "text/html": [
       "<div>\n",
       "<style scoped>\n",
       "    .dataframe tbody tr th:only-of-type {\n",
       "        vertical-align: middle;\n",
       "    }\n",
       "\n",
       "    .dataframe tbody tr th {\n",
       "        vertical-align: top;\n",
       "    }\n",
       "\n",
       "    .dataframe thead th {\n",
       "        text-align: right;\n",
       "    }\n",
       "</style>\n",
       "<table border=\"1\" class=\"dataframe\">\n",
       "  <thead>\n",
       "    <tr style=\"text-align: right;\">\n",
       "      <th></th>\n",
       "      <th>var1</th>\n",
       "      <th>var2</th>\n",
       "      <th>var3</th>\n",
       "      <th>var4</th>\n",
       "    </tr>\n",
       "  </thead>\n",
       "  <tbody>\n",
       "    <tr>\n",
       "      <th>observation1</th>\n",
       "      <td>-1.033894</td>\n",
       "      <td>2.436842</td>\n",
       "      <td>-1.421882</td>\n",
       "      <td>-1.416353</td>\n",
       "    </tr>\n",
       "    <tr>\n",
       "      <th>observation2</th>\n",
       "      <td>-0.166223</td>\n",
       "      <td>-0.092110</td>\n",
       "      <td>0.563013</td>\n",
       "      <td>0.908918</td>\n",
       "    </tr>\n",
       "    <tr>\n",
       "      <th>observation3</th>\n",
       "      <td>0.788574</td>\n",
       "      <td>-1.009404</td>\n",
       "      <td>0.543387</td>\n",
       "      <td>-0.063707</td>\n",
       "    </tr>\n",
       "    <tr>\n",
       "      <th>observation4</th>\n",
       "      <td>-1.210072</td>\n",
       "      <td>-0.732834</td>\n",
       "      <td>-0.232154</td>\n",
       "      <td>-0.553107</td>\n",
       "    </tr>\n",
       "  </tbody>\n",
       "</table>\n",
       "</div>"
      ],
      "text/plain": [
       "                  var1      var2      var3      var4\n",
       "observation1 -1.033894  2.436842 -1.421882 -1.416353\n",
       "observation2 -0.166223 -0.092110  0.563013  0.908918\n",
       "observation3  0.788574 -1.009404  0.543387 -0.063707\n",
       "observation4 -1.210072 -0.732834 -0.232154 -0.553107"
      ]
     },
     "execution_count": 19,
     "metadata": {},
     "output_type": "execute_result"
    }
   ],
   "source": [
    "df"
   ]
  },
  {
   "cell_type": "code",
   "execution_count": 20,
   "metadata": {},
   "outputs": [
    {
     "data": {
      "text/html": [
       "<div>\n",
       "<style scoped>\n",
       "    .dataframe tbody tr th:only-of-type {\n",
       "        vertical-align: middle;\n",
       "    }\n",
       "\n",
       "    .dataframe tbody tr th {\n",
       "        vertical-align: top;\n",
       "    }\n",
       "\n",
       "    .dataframe thead th {\n",
       "        text-align: right;\n",
       "    }\n",
       "</style>\n",
       "<table border=\"1\" class=\"dataframe\">\n",
       "  <thead>\n",
       "    <tr style=\"text-align: right;\">\n",
       "      <th></th>\n",
       "      <th>var1</th>\n",
       "      <th>var2</th>\n",
       "      <th>var3</th>\n",
       "      <th>var4</th>\n",
       "    </tr>\n",
       "  </thead>\n",
       "  <tbody>\n",
       "    <tr>\n",
       "      <th>observation4</th>\n",
       "      <td>-1.210072</td>\n",
       "      <td>-0.732834</td>\n",
       "      <td>-0.232154</td>\n",
       "      <td>-0.553107</td>\n",
       "    </tr>\n",
       "    <tr>\n",
       "      <th>observation1</th>\n",
       "      <td>-1.033894</td>\n",
       "      <td>2.436842</td>\n",
       "      <td>-1.421882</td>\n",
       "      <td>-1.416353</td>\n",
       "    </tr>\n",
       "    <tr>\n",
       "      <th>observation2</th>\n",
       "      <td>-0.166223</td>\n",
       "      <td>-0.092110</td>\n",
       "      <td>0.563013</td>\n",
       "      <td>0.908918</td>\n",
       "    </tr>\n",
       "    <tr>\n",
       "      <th>observation3</th>\n",
       "      <td>0.788574</td>\n",
       "      <td>-1.009404</td>\n",
       "      <td>0.543387</td>\n",
       "      <td>-0.063707</td>\n",
       "    </tr>\n",
       "  </tbody>\n",
       "</table>\n",
       "</div>"
      ],
      "text/plain": [
       "                  var1      var2      var3      var4\n",
       "observation4 -1.210072 -0.732834 -0.232154 -0.553107\n",
       "observation1 -1.033894  2.436842 -1.421882 -1.416353\n",
       "observation2 -0.166223 -0.092110  0.563013  0.908918\n",
       "observation3  0.788574 -1.009404  0.543387 -0.063707"
      ]
     },
     "execution_count": 20,
     "metadata": {},
     "output_type": "execute_result"
    }
   ],
   "source": [
    "df.sort_values(by='var1')"
   ]
  },
  {
   "cell_type": "markdown",
   "metadata": {},
   "source": [
    "### Unique Values"
   ]
  },
  {
   "cell_type": "code",
   "execution_count": 21,
   "metadata": {},
   "outputs": [],
   "source": [
    "# Create new dataframe\n",
    "df2 = pd.DataFrame(np.random.randint(5, size=[4,4]),\n",
    "                   columns=['var1', 'var2', 'var3', 'var4'], \n",
    "                   index = ['observation1', 'observation2', 'observation3', 'observation4'])"
   ]
  },
  {
   "cell_type": "code",
   "execution_count": 22,
   "metadata": {},
   "outputs": [
    {
     "data": {
      "text/html": [
       "<div>\n",
       "<style scoped>\n",
       "    .dataframe tbody tr th:only-of-type {\n",
       "        vertical-align: middle;\n",
       "    }\n",
       "\n",
       "    .dataframe tbody tr th {\n",
       "        vertical-align: top;\n",
       "    }\n",
       "\n",
       "    .dataframe thead th {\n",
       "        text-align: right;\n",
       "    }\n",
       "</style>\n",
       "<table border=\"1\" class=\"dataframe\">\n",
       "  <thead>\n",
       "    <tr style=\"text-align: right;\">\n",
       "      <th></th>\n",
       "      <th>var1</th>\n",
       "      <th>var2</th>\n",
       "      <th>var3</th>\n",
       "      <th>var4</th>\n",
       "    </tr>\n",
       "  </thead>\n",
       "  <tbody>\n",
       "    <tr>\n",
       "      <th>observation1</th>\n",
       "      <td>3</td>\n",
       "      <td>0</td>\n",
       "      <td>2</td>\n",
       "      <td>4</td>\n",
       "    </tr>\n",
       "    <tr>\n",
       "      <th>observation2</th>\n",
       "      <td>3</td>\n",
       "      <td>0</td>\n",
       "      <td>0</td>\n",
       "      <td>1</td>\n",
       "    </tr>\n",
       "    <tr>\n",
       "      <th>observation3</th>\n",
       "      <td>3</td>\n",
       "      <td>1</td>\n",
       "      <td>3</td>\n",
       "      <td>2</td>\n",
       "    </tr>\n",
       "    <tr>\n",
       "      <th>observation4</th>\n",
       "      <td>4</td>\n",
       "      <td>0</td>\n",
       "      <td>4</td>\n",
       "      <td>1</td>\n",
       "    </tr>\n",
       "  </tbody>\n",
       "</table>\n",
       "</div>"
      ],
      "text/plain": [
       "              var1  var2  var3  var4\n",
       "observation1     3     0     2     4\n",
       "observation2     3     0     0     1\n",
       "observation3     3     1     3     2\n",
       "observation4     4     0     4     1"
      ]
     },
     "execution_count": 22,
     "metadata": {},
     "output_type": "execute_result"
    }
   ],
   "source": [
    "df2"
   ]
  },
  {
   "cell_type": "code",
   "execution_count": 23,
   "metadata": {},
   "outputs": [
    {
     "data": {
      "text/plain": [
       "array([4, 1, 2])"
      ]
     },
     "execution_count": 23,
     "metadata": {},
     "output_type": "execute_result"
    }
   ],
   "source": [
    "# Unique values \n",
    "df2['var4'].unique()"
   ]
  },
  {
   "cell_type": "code",
   "execution_count": 24,
   "metadata": {},
   "outputs": [
    {
     "data": {
      "text/plain": [
       "3"
      ]
     },
     "execution_count": 24,
     "metadata": {},
     "output_type": "execute_result"
    }
   ],
   "source": [
    "# Number of unique values \n",
    "df2['var4'].nunique()"
   ]
  },
  {
   "cell_type": "code",
   "execution_count": 25,
   "metadata": {},
   "outputs": [
    {
     "data": {
      "text/plain": [
       "1    2\n",
       "2    1\n",
       "4    1\n",
       "Name: var4, dtype: int64"
      ]
     },
     "execution_count": 25,
     "metadata": {},
     "output_type": "execute_result"
    }
   ],
   "source": [
    "# For each unique value, count the number\n",
    "df2['var4'].value_counts()"
   ]
  },
  {
   "cell_type": "markdown",
   "metadata": {},
   "source": [
    "### Summary Part B (Selecting and Sorting)\n",
    "\n",
    "**We learned**:\n",
    "\n",
    "- how to select columns, rows and combinations thereof within a pandas DataFrame\n",
    "- how to sort by specific columns\n",
    "- how to extract unique values and value counts of colums\n",
    "- that columns in a pandas DataFrame are pandas Series objects\n",
    "\n",
    "**Encountered the following pandas data type**:\n",
    "\n",
    "- pandas.core.series.Series\n",
    "\n",
    "**And making use of the following commands and methods**:\n",
    "```\n",
    "- df[['var1', 'var3']]\n",
    "- df.loc[['observation3', 'observation4'], ['var1', 'var2','var3']]\n",
    "- df.iloc[2]\n",
    "- df[(df['var1']<2) & (df['var4']>=0)]\n",
    "- df.sort_values(by='var1')\n",
    "- df['var1'].unique()\n",
    "- df['var1'].nunique()\n",
    "- df['var1'].value_counts()\n",
    "```"
   ]
  },
  {
   "cell_type": "markdown",
   "metadata": {},
   "source": [
    "## C. Modifying Data"
   ]
  },
  {
   "cell_type": "markdown",
   "metadata": {},
   "source": [
    "### Assigning values"
   ]
  },
  {
   "cell_type": "code",
   "execution_count": 26,
   "metadata": {},
   "outputs": [
    {
     "data": {
      "text/html": [
       "<div>\n",
       "<style scoped>\n",
       "    .dataframe tbody tr th:only-of-type {\n",
       "        vertical-align: middle;\n",
       "    }\n",
       "\n",
       "    .dataframe tbody tr th {\n",
       "        vertical-align: top;\n",
       "    }\n",
       "\n",
       "    .dataframe thead th {\n",
       "        text-align: right;\n",
       "    }\n",
       "</style>\n",
       "<table border=\"1\" class=\"dataframe\">\n",
       "  <thead>\n",
       "    <tr style=\"text-align: right;\">\n",
       "      <th></th>\n",
       "      <th>var1</th>\n",
       "      <th>var2</th>\n",
       "      <th>var3</th>\n",
       "      <th>var4</th>\n",
       "    </tr>\n",
       "  </thead>\n",
       "  <tbody>\n",
       "    <tr>\n",
       "      <th>observation1</th>\n",
       "      <td>-1.033894</td>\n",
       "      <td>2.436842</td>\n",
       "      <td>-1.421882</td>\n",
       "      <td>-1.416353</td>\n",
       "    </tr>\n",
       "    <tr>\n",
       "      <th>observation2</th>\n",
       "      <td>-0.166223</td>\n",
       "      <td>-0.092110</td>\n",
       "      <td>1.000000</td>\n",
       "      <td>0.908918</td>\n",
       "    </tr>\n",
       "    <tr>\n",
       "      <th>observation3</th>\n",
       "      <td>0.788574</td>\n",
       "      <td>-1.009404</td>\n",
       "      <td>0.543387</td>\n",
       "      <td>-0.063707</td>\n",
       "    </tr>\n",
       "    <tr>\n",
       "      <th>observation4</th>\n",
       "      <td>-1.210072</td>\n",
       "      <td>-0.732834</td>\n",
       "      <td>1.000000</td>\n",
       "      <td>-0.553107</td>\n",
       "    </tr>\n",
       "  </tbody>\n",
       "</table>\n",
       "</div>"
      ],
      "text/plain": [
       "                  var1      var2      var3      var4\n",
       "observation1 -1.033894  2.436842 -1.421882 -1.416353\n",
       "observation2 -0.166223 -0.092110  1.000000  0.908918\n",
       "observation3  0.788574 -1.009404  0.543387 -0.063707\n",
       "observation4 -1.210072 -0.732834  1.000000 -0.553107"
      ]
     },
     "execution_count": 26,
     "metadata": {},
     "output_type": "execute_result"
    }
   ],
   "source": [
    "df.loc[['observation2','observation4'],'var3'] = 1\n",
    "df"
   ]
  },
  {
   "cell_type": "markdown",
   "metadata": {},
   "source": [
    "### Changing Column Data Types"
   ]
  },
  {
   "cell_type": "code",
   "execution_count": 27,
   "metadata": {},
   "outputs": [
    {
     "data": {
      "text/plain": [
       "var1    float64\n",
       "var2    float64\n",
       "var3    float64\n",
       "var4    float64\n",
       "dtype: object"
      ]
     },
     "execution_count": 27,
     "metadata": {},
     "output_type": "execute_result"
    }
   ],
   "source": [
    "# Check the datatype of each column \n",
    "df.dtypes"
   ]
  },
  {
   "cell_type": "code",
   "execution_count": 28,
   "metadata": {},
   "outputs": [
    {
     "data": {
      "text/plain": [
       "var1    float64\n",
       "var2     object\n",
       "var3      int64\n",
       "var4      int64\n",
       "dtype: object"
      ]
     },
     "execution_count": 28,
     "metadata": {},
     "output_type": "execute_result"
    }
   ],
   "source": [
    "# Change datatypes of certain columns (Series) to integers:\n",
    "df[['var3', 'var4']] = df[['var3', 'var4']].astype('int')\n",
    "# Change datatypes of certain columns to string:\n",
    "df['var2'] = df['var2'].astype('str')\n",
    "df.dtypes"
   ]
  },
  {
   "cell_type": "code",
   "execution_count": 29,
   "metadata": {},
   "outputs": [
    {
     "data": {
      "text/html": [
       "<div>\n",
       "<style scoped>\n",
       "    .dataframe tbody tr th:only-of-type {\n",
       "        vertical-align: middle;\n",
       "    }\n",
       "\n",
       "    .dataframe tbody tr th {\n",
       "        vertical-align: top;\n",
       "    }\n",
       "\n",
       "    .dataframe thead th {\n",
       "        text-align: right;\n",
       "    }\n",
       "</style>\n",
       "<table border=\"1\" class=\"dataframe\">\n",
       "  <thead>\n",
       "    <tr style=\"text-align: right;\">\n",
       "      <th></th>\n",
       "      <th>var1</th>\n",
       "      <th>var2</th>\n",
       "      <th>var3</th>\n",
       "      <th>var4</th>\n",
       "    </tr>\n",
       "  </thead>\n",
       "  <tbody>\n",
       "    <tr>\n",
       "      <th>observation1</th>\n",
       "      <td>-1.033894</td>\n",
       "      <td>2.436841774030365</td>\n",
       "      <td>-1</td>\n",
       "      <td>-1</td>\n",
       "    </tr>\n",
       "    <tr>\n",
       "      <th>observation2</th>\n",
       "      <td>-0.166223</td>\n",
       "      <td>-0.09210956749066998</td>\n",
       "      <td>1</td>\n",
       "      <td>0</td>\n",
       "    </tr>\n",
       "    <tr>\n",
       "      <th>observation3</th>\n",
       "      <td>0.788574</td>\n",
       "      <td>-1.0094044003328873</td>\n",
       "      <td>0</td>\n",
       "      <td>0</td>\n",
       "    </tr>\n",
       "    <tr>\n",
       "      <th>observation4</th>\n",
       "      <td>-1.210072</td>\n",
       "      <td>-0.7328341829307481</td>\n",
       "      <td>1</td>\n",
       "      <td>0</td>\n",
       "    </tr>\n",
       "  </tbody>\n",
       "</table>\n",
       "</div>"
      ],
      "text/plain": [
       "                  var1                  var2  var3  var4\n",
       "observation1 -1.033894     2.436841774030365    -1    -1\n",
       "observation2 -0.166223  -0.09210956749066998     1     0\n",
       "observation3  0.788574   -1.0094044003328873     0     0\n",
       "observation4 -1.210072   -0.7328341829307481     1     0"
      ]
     },
     "execution_count": 29,
     "metadata": {},
     "output_type": "execute_result"
    }
   ],
   "source": [
    "df"
   ]
  },
  {
   "cell_type": "markdown",
   "metadata": {},
   "source": [
    "### Creating new columns"
   ]
  },
  {
   "cell_type": "code",
   "execution_count": 30,
   "metadata": {},
   "outputs": [
    {
     "data": {
      "text/html": [
       "<div>\n",
       "<style scoped>\n",
       "    .dataframe tbody tr th:only-of-type {\n",
       "        vertical-align: middle;\n",
       "    }\n",
       "\n",
       "    .dataframe tbody tr th {\n",
       "        vertical-align: top;\n",
       "    }\n",
       "\n",
       "    .dataframe thead th {\n",
       "        text-align: right;\n",
       "    }\n",
       "</style>\n",
       "<table border=\"1\" class=\"dataframe\">\n",
       "  <thead>\n",
       "    <tr style=\"text-align: right;\">\n",
       "      <th></th>\n",
       "      <th>var1</th>\n",
       "      <th>var2</th>\n",
       "      <th>var3</th>\n",
       "      <th>var4</th>\n",
       "      <th>var5</th>\n",
       "      <th>var6</th>\n",
       "    </tr>\n",
       "  </thead>\n",
       "  <tbody>\n",
       "    <tr>\n",
       "      <th>observation1</th>\n",
       "      <td>-1.033894</td>\n",
       "      <td>2.436841774030365</td>\n",
       "      <td>-1</td>\n",
       "      <td>-1</td>\n",
       "      <td>-2.033894</td>\n",
       "      <td>test</td>\n",
       "    </tr>\n",
       "    <tr>\n",
       "      <th>observation2</th>\n",
       "      <td>-0.166223</td>\n",
       "      <td>-0.09210956749066998</td>\n",
       "      <td>1</td>\n",
       "      <td>0</td>\n",
       "      <td>0.833777</td>\n",
       "      <td>test</td>\n",
       "    </tr>\n",
       "    <tr>\n",
       "      <th>observation3</th>\n",
       "      <td>0.788574</td>\n",
       "      <td>-1.0094044003328873</td>\n",
       "      <td>0</td>\n",
       "      <td>0</td>\n",
       "      <td>0.788574</td>\n",
       "      <td>test</td>\n",
       "    </tr>\n",
       "    <tr>\n",
       "      <th>observation4</th>\n",
       "      <td>-1.210072</td>\n",
       "      <td>-0.7328341829307481</td>\n",
       "      <td>1</td>\n",
       "      <td>0</td>\n",
       "      <td>-0.210072</td>\n",
       "      <td>test</td>\n",
       "    </tr>\n",
       "  </tbody>\n",
       "</table>\n",
       "</div>"
      ],
      "text/plain": [
       "                  var1                  var2  var3  var4      var5  var6\n",
       "observation1 -1.033894     2.436841774030365    -1    -1 -2.033894  test\n",
       "observation2 -0.166223  -0.09210956749066998     1     0  0.833777  test\n",
       "observation3  0.788574   -1.0094044003328873     0     0  0.788574  test\n",
       "observation4 -1.210072   -0.7328341829307481     1     0 -0.210072  test"
      ]
     },
     "execution_count": 30,
     "metadata": {},
     "output_type": "execute_result"
    }
   ],
   "source": [
    "df['var5'] = df['var1'] + df['var3']\n",
    "df['var6'] = 'test'\n",
    "df"
   ]
  },
  {
   "cell_type": "markdown",
   "metadata": {},
   "source": [
    "### Removing columns "
   ]
  },
  {
   "cell_type": "code",
   "execution_count": 31,
   "metadata": {},
   "outputs": [
    {
     "data": {
      "text/html": [
       "<div>\n",
       "<style scoped>\n",
       "    .dataframe tbody tr th:only-of-type {\n",
       "        vertical-align: middle;\n",
       "    }\n",
       "\n",
       "    .dataframe tbody tr th {\n",
       "        vertical-align: top;\n",
       "    }\n",
       "\n",
       "    .dataframe thead th {\n",
       "        text-align: right;\n",
       "    }\n",
       "</style>\n",
       "<table border=\"1\" class=\"dataframe\">\n",
       "  <thead>\n",
       "    <tr style=\"text-align: right;\">\n",
       "      <th></th>\n",
       "      <th>var1</th>\n",
       "      <th>var3</th>\n",
       "      <th>var4</th>\n",
       "      <th>var5</th>\n",
       "      <th>var6</th>\n",
       "    </tr>\n",
       "  </thead>\n",
       "  <tbody>\n",
       "    <tr>\n",
       "      <th>observation1</th>\n",
       "      <td>-1.033894</td>\n",
       "      <td>-1</td>\n",
       "      <td>-1</td>\n",
       "      <td>-2.033894</td>\n",
       "      <td>test</td>\n",
       "    </tr>\n",
       "    <tr>\n",
       "      <th>observation2</th>\n",
       "      <td>-0.166223</td>\n",
       "      <td>1</td>\n",
       "      <td>0</td>\n",
       "      <td>0.833777</td>\n",
       "      <td>test</td>\n",
       "    </tr>\n",
       "    <tr>\n",
       "      <th>observation3</th>\n",
       "      <td>0.788574</td>\n",
       "      <td>0</td>\n",
       "      <td>0</td>\n",
       "      <td>0.788574</td>\n",
       "      <td>test</td>\n",
       "    </tr>\n",
       "    <tr>\n",
       "      <th>observation4</th>\n",
       "      <td>-1.210072</td>\n",
       "      <td>1</td>\n",
       "      <td>0</td>\n",
       "      <td>-0.210072</td>\n",
       "      <td>test</td>\n",
       "    </tr>\n",
       "  </tbody>\n",
       "</table>\n",
       "</div>"
      ],
      "text/plain": [
       "                  var1  var3  var4      var5  var6\n",
       "observation1 -1.033894    -1    -1 -2.033894  test\n",
       "observation2 -0.166223     1     0  0.833777  test\n",
       "observation3  0.788574     0     0  0.788574  test\n",
       "observation4 -1.210072     1     0 -0.210072  test"
      ]
     },
     "execution_count": 31,
     "metadata": {},
     "output_type": "execute_result"
    }
   ],
   "source": [
    "df.drop('var2', axis=1)"
   ]
  },
  {
   "cell_type": "code",
   "execution_count": 32,
   "metadata": {},
   "outputs": [
    {
     "data": {
      "text/html": [
       "<div>\n",
       "<style scoped>\n",
       "    .dataframe tbody tr th:only-of-type {\n",
       "        vertical-align: middle;\n",
       "    }\n",
       "\n",
       "    .dataframe tbody tr th {\n",
       "        vertical-align: top;\n",
       "    }\n",
       "\n",
       "    .dataframe thead th {\n",
       "        text-align: right;\n",
       "    }\n",
       "</style>\n",
       "<table border=\"1\" class=\"dataframe\">\n",
       "  <thead>\n",
       "    <tr style=\"text-align: right;\">\n",
       "      <th></th>\n",
       "      <th>var1</th>\n",
       "      <th>var2</th>\n",
       "      <th>var3</th>\n",
       "      <th>var4</th>\n",
       "      <th>var5</th>\n",
       "      <th>var6</th>\n",
       "    </tr>\n",
       "  </thead>\n",
       "  <tbody>\n",
       "    <tr>\n",
       "      <th>observation1</th>\n",
       "      <td>-1.033894</td>\n",
       "      <td>2.436841774030365</td>\n",
       "      <td>-1</td>\n",
       "      <td>-1</td>\n",
       "      <td>-2.033894</td>\n",
       "      <td>test</td>\n",
       "    </tr>\n",
       "    <tr>\n",
       "      <th>observation2</th>\n",
       "      <td>-0.166223</td>\n",
       "      <td>-0.09210956749066998</td>\n",
       "      <td>1</td>\n",
       "      <td>0</td>\n",
       "      <td>0.833777</td>\n",
       "      <td>test</td>\n",
       "    </tr>\n",
       "    <tr>\n",
       "      <th>observation3</th>\n",
       "      <td>0.788574</td>\n",
       "      <td>-1.0094044003328873</td>\n",
       "      <td>0</td>\n",
       "      <td>0</td>\n",
       "      <td>0.788574</td>\n",
       "      <td>test</td>\n",
       "    </tr>\n",
       "    <tr>\n",
       "      <th>observation4</th>\n",
       "      <td>-1.210072</td>\n",
       "      <td>-0.7328341829307481</td>\n",
       "      <td>1</td>\n",
       "      <td>0</td>\n",
       "      <td>-0.210072</td>\n",
       "      <td>test</td>\n",
       "    </tr>\n",
       "  </tbody>\n",
       "</table>\n",
       "</div>"
      ],
      "text/plain": [
       "                  var1                  var2  var3  var4      var5  var6\n",
       "observation1 -1.033894     2.436841774030365    -1    -1 -2.033894  test\n",
       "observation2 -0.166223  -0.09210956749066998     1     0  0.833777  test\n",
       "observation3  0.788574   -1.0094044003328873     0     0  0.788574  test\n",
       "observation4 -1.210072   -0.7328341829307481     1     0 -0.210072  test"
      ]
     },
     "execution_count": 32,
     "metadata": {},
     "output_type": "execute_result"
    }
   ],
   "source": [
    "# Note that the dataframe itself will not change unless you use the inplace=True parameter\n",
    "# The var2 column is still in the original dataframe!\n",
    "df"
   ]
  },
  {
   "cell_type": "code",
   "execution_count": 33,
   "metadata": {},
   "outputs": [
    {
     "data": {
      "text/html": [
       "<div>\n",
       "<style scoped>\n",
       "    .dataframe tbody tr th:only-of-type {\n",
       "        vertical-align: middle;\n",
       "    }\n",
       "\n",
       "    .dataframe tbody tr th {\n",
       "        vertical-align: top;\n",
       "    }\n",
       "\n",
       "    .dataframe thead th {\n",
       "        text-align: right;\n",
       "    }\n",
       "</style>\n",
       "<table border=\"1\" class=\"dataframe\">\n",
       "  <thead>\n",
       "    <tr style=\"text-align: right;\">\n",
       "      <th></th>\n",
       "      <th>var1</th>\n",
       "      <th>var3</th>\n",
       "      <th>var4</th>\n",
       "      <th>var5</th>\n",
       "      <th>var6</th>\n",
       "    </tr>\n",
       "  </thead>\n",
       "  <tbody>\n",
       "    <tr>\n",
       "      <th>observation1</th>\n",
       "      <td>-1.033894</td>\n",
       "      <td>-1</td>\n",
       "      <td>-1</td>\n",
       "      <td>-2.033894</td>\n",
       "      <td>test</td>\n",
       "    </tr>\n",
       "    <tr>\n",
       "      <th>observation2</th>\n",
       "      <td>-0.166223</td>\n",
       "      <td>1</td>\n",
       "      <td>0</td>\n",
       "      <td>0.833777</td>\n",
       "      <td>test</td>\n",
       "    </tr>\n",
       "    <tr>\n",
       "      <th>observation3</th>\n",
       "      <td>0.788574</td>\n",
       "      <td>0</td>\n",
       "      <td>0</td>\n",
       "      <td>0.788574</td>\n",
       "      <td>test</td>\n",
       "    </tr>\n",
       "    <tr>\n",
       "      <th>observation4</th>\n",
       "      <td>-1.210072</td>\n",
       "      <td>1</td>\n",
       "      <td>0</td>\n",
       "      <td>-0.210072</td>\n",
       "      <td>test</td>\n",
       "    </tr>\n",
       "  </tbody>\n",
       "</table>\n",
       "</div>"
      ],
      "text/plain": [
       "                  var1  var3  var4      var5  var6\n",
       "observation1 -1.033894    -1    -1 -2.033894  test\n",
       "observation2 -0.166223     1     0  0.833777  test\n",
       "observation3  0.788574     0     0  0.788574  test\n",
       "observation4 -1.210072     1     0 -0.210072  test"
      ]
     },
     "execution_count": 33,
     "metadata": {},
     "output_type": "execute_result"
    }
   ],
   "source": [
    "# This time dropping with inplace=True\n",
    "df.drop('var2', axis=1, inplace=True)\n",
    "df"
   ]
  },
  {
   "cell_type": "code",
   "execution_count": 34,
   "metadata": {},
   "outputs": [
    {
     "data": {
      "text/html": [
       "<div>\n",
       "<style scoped>\n",
       "    .dataframe tbody tr th:only-of-type {\n",
       "        vertical-align: middle;\n",
       "    }\n",
       "\n",
       "    .dataframe tbody tr th {\n",
       "        vertical-align: top;\n",
       "    }\n",
       "\n",
       "    .dataframe thead th {\n",
       "        text-align: right;\n",
       "    }\n",
       "</style>\n",
       "<table border=\"1\" class=\"dataframe\">\n",
       "  <thead>\n",
       "    <tr style=\"text-align: right;\">\n",
       "      <th></th>\n",
       "      <th>var1</th>\n",
       "      <th>var3</th>\n",
       "      <th>var4</th>\n",
       "      <th>var5</th>\n",
       "      <th>var6</th>\n",
       "    </tr>\n",
       "  </thead>\n",
       "  <tbody>\n",
       "    <tr>\n",
       "      <th>observation1</th>\n",
       "      <td>-1.033894</td>\n",
       "      <td>-1</td>\n",
       "      <td>-1</td>\n",
       "      <td>-2.033894</td>\n",
       "      <td>test</td>\n",
       "    </tr>\n",
       "    <tr>\n",
       "      <th>observation2</th>\n",
       "      <td>-0.166223</td>\n",
       "      <td>1</td>\n",
       "      <td>0</td>\n",
       "      <td>0.833777</td>\n",
       "      <td>test</td>\n",
       "    </tr>\n",
       "    <tr>\n",
       "      <th>observation3</th>\n",
       "      <td>0.788574</td>\n",
       "      <td>0</td>\n",
       "      <td>0</td>\n",
       "      <td>0.788574</td>\n",
       "      <td>test</td>\n",
       "    </tr>\n",
       "  </tbody>\n",
       "</table>\n",
       "</div>"
      ],
      "text/plain": [
       "                  var1  var3  var4      var5  var6\n",
       "observation1 -1.033894    -1    -1 -2.033894  test\n",
       "observation2 -0.166223     1     0  0.833777  test\n",
       "observation3  0.788574     0     0  0.788574  test"
      ]
     },
     "execution_count": 34,
     "metadata": {},
     "output_type": "execute_result"
    }
   ],
   "source": [
    "# Drop rows in similar way\n",
    "df.drop('observation4', axis=0)"
   ]
  },
  {
   "cell_type": "markdown",
   "metadata": {},
   "source": [
    "### Missing Data \n",
    "\n",
    "We will now look at basic operations in pandas to deal with missing data. "
   ]
  },
  {
   "cell_type": "code",
   "execution_count": 35,
   "metadata": {},
   "outputs": [
    {
     "data": {
      "text/html": [
       "<div>\n",
       "<style scoped>\n",
       "    .dataframe tbody tr th:only-of-type {\n",
       "        vertical-align: middle;\n",
       "    }\n",
       "\n",
       "    .dataframe tbody tr th {\n",
       "        vertical-align: top;\n",
       "    }\n",
       "\n",
       "    .dataframe thead th {\n",
       "        text-align: right;\n",
       "    }\n",
       "</style>\n",
       "<table border=\"1\" class=\"dataframe\">\n",
       "  <thead>\n",
       "    <tr style=\"text-align: right;\">\n",
       "      <th></th>\n",
       "      <th>var1</th>\n",
       "      <th>var3</th>\n",
       "      <th>var4</th>\n",
       "      <th>var5</th>\n",
       "      <th>var6</th>\n",
       "    </tr>\n",
       "  </thead>\n",
       "  <tbody>\n",
       "    <tr>\n",
       "      <th>observation1</th>\n",
       "      <td>-1.033894</td>\n",
       "      <td>-1.0</td>\n",
       "      <td>-1.0</td>\n",
       "      <td>-2.033894</td>\n",
       "      <td>test</td>\n",
       "    </tr>\n",
       "    <tr>\n",
       "      <th>observation2</th>\n",
       "      <td>-0.166223</td>\n",
       "      <td>1.0</td>\n",
       "      <td>NaN</td>\n",
       "      <td>0.833777</td>\n",
       "      <td>test</td>\n",
       "    </tr>\n",
       "    <tr>\n",
       "      <th>observation3</th>\n",
       "      <td>0.788574</td>\n",
       "      <td>NaN</td>\n",
       "      <td>0.0</td>\n",
       "      <td>0.788574</td>\n",
       "      <td>test</td>\n",
       "    </tr>\n",
       "    <tr>\n",
       "      <th>observation4</th>\n",
       "      <td>-1.210072</td>\n",
       "      <td>1.0</td>\n",
       "      <td>0.0</td>\n",
       "      <td>-0.210072</td>\n",
       "      <td>test</td>\n",
       "    </tr>\n",
       "  </tbody>\n",
       "</table>\n",
       "</div>"
      ],
      "text/plain": [
       "                  var1  var3  var4      var5  var6\n",
       "observation1 -1.033894  -1.0  -1.0 -2.033894  test\n",
       "observation2 -0.166223   1.0   NaN  0.833777  test\n",
       "observation3  0.788574   NaN   0.0  0.788574  test\n",
       "observation4 -1.210072   1.0   0.0 -0.210072  test"
      ]
     },
     "execution_count": 35,
     "metadata": {},
     "output_type": "execute_result"
    }
   ],
   "source": [
    "# Let's add some missing values\n",
    "df.loc['observation3','var3'] = np.nan\n",
    "df.loc['observation2','var4'] = np.nan\n",
    "df"
   ]
  },
  {
   "cell_type": "code",
   "execution_count": 36,
   "metadata": {},
   "outputs": [
    {
     "data": {
      "text/html": [
       "<div>\n",
       "<style scoped>\n",
       "    .dataframe tbody tr th:only-of-type {\n",
       "        vertical-align: middle;\n",
       "    }\n",
       "\n",
       "    .dataframe tbody tr th {\n",
       "        vertical-align: top;\n",
       "    }\n",
       "\n",
       "    .dataframe thead th {\n",
       "        text-align: right;\n",
       "    }\n",
       "</style>\n",
       "<table border=\"1\" class=\"dataframe\">\n",
       "  <thead>\n",
       "    <tr style=\"text-align: right;\">\n",
       "      <th></th>\n",
       "      <th>var1</th>\n",
       "      <th>var3</th>\n",
       "      <th>var4</th>\n",
       "      <th>var5</th>\n",
       "      <th>var6</th>\n",
       "    </tr>\n",
       "  </thead>\n",
       "  <tbody>\n",
       "    <tr>\n",
       "      <th>observation1</th>\n",
       "      <td>False</td>\n",
       "      <td>False</td>\n",
       "      <td>False</td>\n",
       "      <td>False</td>\n",
       "      <td>False</td>\n",
       "    </tr>\n",
       "    <tr>\n",
       "      <th>observation2</th>\n",
       "      <td>False</td>\n",
       "      <td>False</td>\n",
       "      <td>True</td>\n",
       "      <td>False</td>\n",
       "      <td>False</td>\n",
       "    </tr>\n",
       "    <tr>\n",
       "      <th>observation3</th>\n",
       "      <td>False</td>\n",
       "      <td>True</td>\n",
       "      <td>False</td>\n",
       "      <td>False</td>\n",
       "      <td>False</td>\n",
       "    </tr>\n",
       "    <tr>\n",
       "      <th>observation4</th>\n",
       "      <td>False</td>\n",
       "      <td>False</td>\n",
       "      <td>False</td>\n",
       "      <td>False</td>\n",
       "      <td>False</td>\n",
       "    </tr>\n",
       "  </tbody>\n",
       "</table>\n",
       "</div>"
      ],
      "text/plain": [
       "               var1   var3   var4   var5   var6\n",
       "observation1  False  False  False  False  False\n",
       "observation2  False  False   True  False  False\n",
       "observation3  False   True  False  False  False\n",
       "observation4  False  False  False  False  False"
      ]
     },
     "execution_count": 36,
     "metadata": {},
     "output_type": "execute_result"
    }
   ],
   "source": [
    "# Which values are missing?\n",
    "df.isnull()"
   ]
  },
  {
   "cell_type": "code",
   "execution_count": 37,
   "metadata": {},
   "outputs": [
    {
     "data": {
      "text/html": [
       "<div>\n",
       "<style scoped>\n",
       "    .dataframe tbody tr th:only-of-type {\n",
       "        vertical-align: middle;\n",
       "    }\n",
       "\n",
       "    .dataframe tbody tr th {\n",
       "        vertical-align: top;\n",
       "    }\n",
       "\n",
       "    .dataframe thead th {\n",
       "        text-align: right;\n",
       "    }\n",
       "</style>\n",
       "<table border=\"1\" class=\"dataframe\">\n",
       "  <thead>\n",
       "    <tr style=\"text-align: right;\">\n",
       "      <th></th>\n",
       "      <th>var1</th>\n",
       "      <th>var3</th>\n",
       "      <th>var4</th>\n",
       "      <th>var5</th>\n",
       "      <th>var6</th>\n",
       "    </tr>\n",
       "  </thead>\n",
       "  <tbody>\n",
       "    <tr>\n",
       "      <th>observation1</th>\n",
       "      <td>-1.033894</td>\n",
       "      <td>-1.0</td>\n",
       "      <td>-1.0</td>\n",
       "      <td>-2.033894</td>\n",
       "      <td>test</td>\n",
       "    </tr>\n",
       "    <tr>\n",
       "      <th>observation2</th>\n",
       "      <td>-0.166223</td>\n",
       "      <td>1.0</td>\n",
       "      <td>NaN</td>\n",
       "      <td>0.833777</td>\n",
       "      <td>test</td>\n",
       "    </tr>\n",
       "    <tr>\n",
       "      <th>observation4</th>\n",
       "      <td>-1.210072</td>\n",
       "      <td>1.0</td>\n",
       "      <td>0.0</td>\n",
       "      <td>-0.210072</td>\n",
       "      <td>test</td>\n",
       "    </tr>\n",
       "  </tbody>\n",
       "</table>\n",
       "</div>"
      ],
      "text/plain": [
       "                  var1  var3  var4      var5  var6\n",
       "observation1 -1.033894  -1.0  -1.0 -2.033894  test\n",
       "observation2 -0.166223   1.0   NaN  0.833777  test\n",
       "observation4 -1.210072   1.0   0.0 -0.210072  test"
      ]
     },
     "execution_count": 37,
     "metadata": {},
     "output_type": "execute_result"
    }
   ],
   "source": [
    "#Remove all rows in which var1 or var3 are missing values\n",
    "df.dropna(subset=['var1', 'var3'])"
   ]
  },
  {
   "cell_type": "code",
   "execution_count": 38,
   "metadata": {},
   "outputs": [
    {
     "data": {
      "text/html": [
       "<div>\n",
       "<style scoped>\n",
       "    .dataframe tbody tr th:only-of-type {\n",
       "        vertical-align: middle;\n",
       "    }\n",
       "\n",
       "    .dataframe tbody tr th {\n",
       "        vertical-align: top;\n",
       "    }\n",
       "\n",
       "    .dataframe thead th {\n",
       "        text-align: right;\n",
       "    }\n",
       "</style>\n",
       "<table border=\"1\" class=\"dataframe\">\n",
       "  <thead>\n",
       "    <tr style=\"text-align: right;\">\n",
       "      <th></th>\n",
       "      <th>var1</th>\n",
       "      <th>var5</th>\n",
       "      <th>var6</th>\n",
       "    </tr>\n",
       "  </thead>\n",
       "  <tbody>\n",
       "    <tr>\n",
       "      <th>observation1</th>\n",
       "      <td>-1.033894</td>\n",
       "      <td>-2.033894</td>\n",
       "      <td>test</td>\n",
       "    </tr>\n",
       "    <tr>\n",
       "      <th>observation2</th>\n",
       "      <td>-0.166223</td>\n",
       "      <td>0.833777</td>\n",
       "      <td>test</td>\n",
       "    </tr>\n",
       "    <tr>\n",
       "      <th>observation3</th>\n",
       "      <td>0.788574</td>\n",
       "      <td>0.788574</td>\n",
       "      <td>test</td>\n",
       "    </tr>\n",
       "    <tr>\n",
       "      <th>observation4</th>\n",
       "      <td>-1.210072</td>\n",
       "      <td>-0.210072</td>\n",
       "      <td>test</td>\n",
       "    </tr>\n",
       "  </tbody>\n",
       "</table>\n",
       "</div>"
      ],
      "text/plain": [
       "                  var1      var5  var6\n",
       "observation1 -1.033894 -2.033894  test\n",
       "observation2 -0.166223  0.833777  test\n",
       "observation3  0.788574  0.788574  test\n",
       "observation4 -1.210072 -0.210072  test"
      ]
     },
     "execution_count": 38,
     "metadata": {},
     "output_type": "execute_result"
    }
   ],
   "source": [
    "#Remove all the columns which include np.nan values\n",
    "df.dropna(axis=1)"
   ]
  },
  {
   "cell_type": "code",
   "execution_count": 39,
   "metadata": {},
   "outputs": [
    {
     "data": {
      "text/html": [
       "<div>\n",
       "<style scoped>\n",
       "    .dataframe tbody tr th:only-of-type {\n",
       "        vertical-align: middle;\n",
       "    }\n",
       "\n",
       "    .dataframe tbody tr th {\n",
       "        vertical-align: top;\n",
       "    }\n",
       "\n",
       "    .dataframe thead th {\n",
       "        text-align: right;\n",
       "    }\n",
       "</style>\n",
       "<table border=\"1\" class=\"dataframe\">\n",
       "  <thead>\n",
       "    <tr style=\"text-align: right;\">\n",
       "      <th></th>\n",
       "      <th>var1</th>\n",
       "      <th>var3</th>\n",
       "      <th>var4</th>\n",
       "      <th>var5</th>\n",
       "      <th>var6</th>\n",
       "    </tr>\n",
       "  </thead>\n",
       "  <tbody>\n",
       "    <tr>\n",
       "      <th>observation1</th>\n",
       "      <td>-1.033894</td>\n",
       "      <td>-1.0</td>\n",
       "      <td>-1.0</td>\n",
       "      <td>-2.033894</td>\n",
       "      <td>test</td>\n",
       "    </tr>\n",
       "    <tr>\n",
       "      <th>observation2</th>\n",
       "      <td>-0.166223</td>\n",
       "      <td>1.0</td>\n",
       "      <td>NaN</td>\n",
       "      <td>0.833777</td>\n",
       "      <td>test</td>\n",
       "    </tr>\n",
       "    <tr>\n",
       "      <th>observation3</th>\n",
       "      <td>0.788574</td>\n",
       "      <td>NaN</td>\n",
       "      <td>0.0</td>\n",
       "      <td>0.788574</td>\n",
       "      <td>test</td>\n",
       "    </tr>\n",
       "    <tr>\n",
       "      <th>observation4</th>\n",
       "      <td>-1.210072</td>\n",
       "      <td>1.0</td>\n",
       "      <td>0.0</td>\n",
       "      <td>-0.210072</td>\n",
       "      <td>test</td>\n",
       "    </tr>\n",
       "  </tbody>\n",
       "</table>\n",
       "</div>"
      ],
      "text/plain": [
       "                  var1  var3  var4      var5  var6\n",
       "observation1 -1.033894  -1.0  -1.0 -2.033894  test\n",
       "observation2 -0.166223   1.0   NaN  0.833777  test\n",
       "observation3  0.788574   NaN   0.0  0.788574  test\n",
       "observation4 -1.210072   1.0   0.0 -0.210072  test"
      ]
     },
     "execution_count": 39,
     "metadata": {},
     "output_type": "execute_result"
    }
   ],
   "source": [
    "# Look at original dataframe (we didn't use inplace=True so the NaN values are still here)\n",
    "df"
   ]
  },
  {
   "cell_type": "code",
   "execution_count": 40,
   "metadata": {},
   "outputs": [
    {
     "data": {
      "text/html": [
       "<div>\n",
       "<style scoped>\n",
       "    .dataframe tbody tr th:only-of-type {\n",
       "        vertical-align: middle;\n",
       "    }\n",
       "\n",
       "    .dataframe tbody tr th {\n",
       "        vertical-align: top;\n",
       "    }\n",
       "\n",
       "    .dataframe thead th {\n",
       "        text-align: right;\n",
       "    }\n",
       "</style>\n",
       "<table border=\"1\" class=\"dataframe\">\n",
       "  <thead>\n",
       "    <tr style=\"text-align: right;\">\n",
       "      <th></th>\n",
       "      <th>var1</th>\n",
       "      <th>var3</th>\n",
       "      <th>var4</th>\n",
       "      <th>var5</th>\n",
       "      <th>var6</th>\n",
       "    </tr>\n",
       "  </thead>\n",
       "  <tbody>\n",
       "    <tr>\n",
       "      <th>observation1</th>\n",
       "      <td>-1.033894</td>\n",
       "      <td>-1.0</td>\n",
       "      <td>-1.0</td>\n",
       "      <td>-2.033894</td>\n",
       "      <td>test</td>\n",
       "    </tr>\n",
       "    <tr>\n",
       "      <th>observation2</th>\n",
       "      <td>-0.166223</td>\n",
       "      <td>1.0</td>\n",
       "      <td>99.0</td>\n",
       "      <td>0.833777</td>\n",
       "      <td>test</td>\n",
       "    </tr>\n",
       "    <tr>\n",
       "      <th>observation3</th>\n",
       "      <td>0.788574</td>\n",
       "      <td>99.0</td>\n",
       "      <td>0.0</td>\n",
       "      <td>0.788574</td>\n",
       "      <td>test</td>\n",
       "    </tr>\n",
       "    <tr>\n",
       "      <th>observation4</th>\n",
       "      <td>-1.210072</td>\n",
       "      <td>1.0</td>\n",
       "      <td>0.0</td>\n",
       "      <td>-0.210072</td>\n",
       "      <td>test</td>\n",
       "    </tr>\n",
       "  </tbody>\n",
       "</table>\n",
       "</div>"
      ],
      "text/plain": [
       "                  var1  var3  var4      var5  var6\n",
       "observation1 -1.033894  -1.0  -1.0 -2.033894  test\n",
       "observation2 -0.166223   1.0  99.0  0.833777  test\n",
       "observation3  0.788574  99.0   0.0  0.788574  test\n",
       "observation4 -1.210072   1.0   0.0 -0.210072  test"
      ]
     },
     "execution_count": 40,
     "metadata": {},
     "output_type": "execute_result"
    }
   ],
   "source": [
    "# Fill NaN with specific value\n",
    "df.fillna(value=99)"
   ]
  },
  {
   "cell_type": "code",
   "execution_count": 41,
   "metadata": {},
   "outputs": [
    {
     "data": {
      "text/plain": [
       "observation1   -1.000000\n",
       "observation2    1.000000\n",
       "observation3    0.333333\n",
       "observation4    1.000000\n",
       "Name: var3, dtype: float64"
      ]
     },
     "execution_count": 41,
     "metadata": {},
     "output_type": "execute_result"
    }
   ],
   "source": [
    "# Fill NaN with column mean\n",
    "df['var3'].fillna(value=df['var3'].mean())"
   ]
  },
  {
   "cell_type": "code",
   "execution_count": 42,
   "metadata": {},
   "outputs": [
    {
     "data": {
      "text/html": [
       "<div>\n",
       "<style scoped>\n",
       "    .dataframe tbody tr th:only-of-type {\n",
       "        vertical-align: middle;\n",
       "    }\n",
       "\n",
       "    .dataframe tbody tr th {\n",
       "        vertical-align: top;\n",
       "    }\n",
       "\n",
       "    .dataframe thead th {\n",
       "        text-align: right;\n",
       "    }\n",
       "</style>\n",
       "<table border=\"1\" class=\"dataframe\">\n",
       "  <thead>\n",
       "    <tr style=\"text-align: right;\">\n",
       "      <th></th>\n",
       "      <th>var3</th>\n",
       "      <th>var4</th>\n",
       "    </tr>\n",
       "  </thead>\n",
       "  <tbody>\n",
       "    <tr>\n",
       "      <th>observation1</th>\n",
       "      <td>-1.000000</td>\n",
       "      <td>-1.000000</td>\n",
       "    </tr>\n",
       "    <tr>\n",
       "      <th>observation2</th>\n",
       "      <td>1.000000</td>\n",
       "      <td>-0.333333</td>\n",
       "    </tr>\n",
       "    <tr>\n",
       "      <th>observation3</th>\n",
       "      <td>0.333333</td>\n",
       "      <td>0.000000</td>\n",
       "    </tr>\n",
       "    <tr>\n",
       "      <th>observation4</th>\n",
       "      <td>1.000000</td>\n",
       "      <td>0.000000</td>\n",
       "    </tr>\n",
       "  </tbody>\n",
       "</table>\n",
       "</div>"
      ],
      "text/plain": [
       "                  var3      var4\n",
       "observation1 -1.000000 -1.000000\n",
       "observation2  1.000000 -0.333333\n",
       "observation3  0.333333  0.000000\n",
       "observation4  1.000000  0.000000"
      ]
     },
     "execution_count": 42,
     "metadata": {},
     "output_type": "execute_result"
    }
   ],
   "source": [
    "# Fill NaN with column mean for multiple columns\n",
    "df[['var3','var4']].fillna(value=df[['var3','var4']].mean())"
   ]
  },
  {
   "cell_type": "markdown",
   "metadata": {},
   "source": [
    "### Summary Part C (Modifying Data)\n",
    "\n",
    "**We learned how to**:\n",
    "\n",
    "- assign values\n",
    "- check and modify column data types\n",
    "- create new columns\n",
    "- drop rows or columns\n",
    "- check for missing values\n",
    "- remove rows or columns with missing values\n",
    "- impute missing values\n",
    "\n",
    "**And made use of the following commands and methods**:\n",
    "```\n",
    "- df.loc[['observation2','observation4'],'var3'] = 1\n",
    "- df.dtypes\n",
    "- df['var1'].astype()\n",
    "- df.drop('var2', axis=1)\n",
    "- df.drop('observation4', axis=0)\n",
    "- df.isnull()\n",
    "- df.dropna()\n",
    "- df.dropna(axis=1)\n",
    "- df.fillna(value=99)\n",
    "- df[['var3','var4']].fillna(value=df[['var3','var4']].mean())\n",
    "```"
   ]
  },
  {
   "cell_type": "markdown",
   "metadata": {},
   "source": [
    "## D: Grouped Operations\n"
   ]
  },
  {
   "cell_type": "code",
   "execution_count": 43,
   "metadata": {},
   "outputs": [
    {
     "data": {
      "text/html": [
       "<div>\n",
       "<style scoped>\n",
       "    .dataframe tbody tr th:only-of-type {\n",
       "        vertical-align: middle;\n",
       "    }\n",
       "\n",
       "    .dataframe tbody tr th {\n",
       "        vertical-align: top;\n",
       "    }\n",
       "\n",
       "    .dataframe thead th {\n",
       "        text-align: right;\n",
       "    }\n",
       "</style>\n",
       "<table border=\"1\" class=\"dataframe\">\n",
       "  <thead>\n",
       "    <tr style=\"text-align: right;\">\n",
       "      <th></th>\n",
       "      <th>Company</th>\n",
       "      <th>Person</th>\n",
       "      <th>Salary</th>\n",
       "    </tr>\n",
       "  </thead>\n",
       "  <tbody>\n",
       "    <tr>\n",
       "      <th>0</th>\n",
       "      <td>Google</td>\n",
       "      <td>Saskia</td>\n",
       "      <td>4000</td>\n",
       "    </tr>\n",
       "    <tr>\n",
       "      <th>1</th>\n",
       "      <td>Google</td>\n",
       "      <td>Glenn</td>\n",
       "      <td>2400</td>\n",
       "    </tr>\n",
       "    <tr>\n",
       "      <th>2</th>\n",
       "      <td>KLM</td>\n",
       "      <td>Niels</td>\n",
       "      <td>2800</td>\n",
       "    </tr>\n",
       "    <tr>\n",
       "      <th>3</th>\n",
       "      <td>KLM</td>\n",
       "      <td>Martijn</td>\n",
       "      <td>2800</td>\n",
       "    </tr>\n",
       "    <tr>\n",
       "      <th>4</th>\n",
       "      <td>KLM</td>\n",
       "      <td>Laura</td>\n",
       "      <td>2600</td>\n",
       "    </tr>\n",
       "    <tr>\n",
       "      <th>5</th>\n",
       "      <td>Ryanair</td>\n",
       "      <td>Joris</td>\n",
       "      <td>1600</td>\n",
       "    </tr>\n",
       "    <tr>\n",
       "      <th>6</th>\n",
       "      <td>Ryanair</td>\n",
       "      <td>Sara</td>\n",
       "      <td>2100</td>\n",
       "    </tr>\n",
       "  </tbody>\n",
       "</table>\n",
       "</div>"
      ],
      "text/plain": [
       "   Company   Person  Salary\n",
       "0   Google   Saskia    4000\n",
       "1   Google    Glenn    2400\n",
       "2      KLM    Niels    2800\n",
       "3      KLM  Martijn    2800\n",
       "4      KLM    Laura    2600\n",
       "5  Ryanair    Joris    1600\n",
       "6  Ryanair     Sara    2100"
      ]
     },
     "execution_count": 43,
     "metadata": {},
     "output_type": "execute_result"
    }
   ],
   "source": [
    "# Create a dataframe from a dictionary\n",
    "data = {'Company': ['Google', 'Google', 'KLM', 'KLM', 'KLM', 'Ryanair', 'Ryanair'], \n",
    "        'Person': ['Saskia', 'Glenn', 'Niels', 'Martijn', 'Laura', 'Joris', 'Sara'],\n",
    "       'Salary': [4000, 2400, 2800, 2800, 2600, 1600, 2100]}\n",
    "df = pd.DataFrame(data)\n",
    "df"
   ]
  },
  {
   "cell_type": "code",
   "execution_count": 44,
   "metadata": {},
   "outputs": [
    {
     "data": {
      "text/html": [
       "<div>\n",
       "<style scoped>\n",
       "    .dataframe tbody tr th:only-of-type {\n",
       "        vertical-align: middle;\n",
       "    }\n",
       "\n",
       "    .dataframe tbody tr th {\n",
       "        vertical-align: top;\n",
       "    }\n",
       "\n",
       "    .dataframe thead th {\n",
       "        text-align: right;\n",
       "    }\n",
       "</style>\n",
       "<table border=\"1\" class=\"dataframe\">\n",
       "  <thead>\n",
       "    <tr style=\"text-align: right;\">\n",
       "      <th></th>\n",
       "      <th>Salary</th>\n",
       "    </tr>\n",
       "    <tr>\n",
       "      <th>Company</th>\n",
       "      <th></th>\n",
       "    </tr>\n",
       "  </thead>\n",
       "  <tbody>\n",
       "    <tr>\n",
       "      <th>Google</th>\n",
       "      <td>3200.000000</td>\n",
       "    </tr>\n",
       "    <tr>\n",
       "      <th>KLM</th>\n",
       "      <td>2733.333333</td>\n",
       "    </tr>\n",
       "    <tr>\n",
       "      <th>Ryanair</th>\n",
       "      <td>1850.000000</td>\n",
       "    </tr>\n",
       "  </tbody>\n",
       "</table>\n",
       "</div>"
      ],
      "text/plain": [
       "              Salary\n",
       "Company             \n",
       "Google   3200.000000\n",
       "KLM      2733.333333\n",
       "Ryanair  1850.000000"
      ]
     },
     "execution_count": 44,
     "metadata": {},
     "output_type": "execute_result"
    }
   ],
   "source": [
    "# Take mean() of all numeric columns, after grouping by Company\n",
    "df.groupby('Company').mean()"
   ]
  },
  {
   "cell_type": "code",
   "execution_count": 45,
   "metadata": {},
   "outputs": [
    {
     "data": {
      "text/plain": [
       "Company\n",
       "Google     3200.000000\n",
       "KLM        2733.333333\n",
       "Ryanair    1850.000000\n",
       "Name: Salary, dtype: float64"
      ]
     },
     "execution_count": 45,
     "metadata": {},
     "output_type": "execute_result"
    }
   ],
   "source": [
    "# Group by Company, select Salary column and calculate mean values\n",
    "df.groupby('Company').Salary.mean()"
   ]
  },
  {
   "cell_type": "code",
   "execution_count": 46,
   "metadata": {},
   "outputs": [],
   "source": [
    "# [Optional] More generic way, using lambda functions\n",
    "# df.groupby('Company').apply(lambda x: x['Salary'].mean())"
   ]
  },
  {
   "cell_type": "markdown",
   "metadata": {},
   "source": [
    "### Summary Part D (Grouped Operations)\n",
    "\n",
    "**We learned how to**:\n",
    "- create a dataframe from a dictionary\n",
    "- group by a specific variable and apply a function to its groups\n",
    "- apply lambda functions\n",
    "\n",
    "**And made use of the following commands and methods**:\n",
    "\n",
    "```\n",
    "- .groupby()\n",
    "- .apply()\n",
    "- lambda x: ..\n",
    "```"
   ]
  },
  {
   "cell_type": "markdown",
   "metadata": {},
   "source": [
    "## E. Long/Wide Conversions"
   ]
  },
  {
   "cell_type": "code",
   "execution_count": 47,
   "metadata": {},
   "outputs": [
    {
     "data": {
      "text/html": [
       "<div>\n",
       "<style scoped>\n",
       "    .dataframe tbody tr th:only-of-type {\n",
       "        vertical-align: middle;\n",
       "    }\n",
       "\n",
       "    .dataframe tbody tr th {\n",
       "        vertical-align: top;\n",
       "    }\n",
       "\n",
       "    .dataframe thead th {\n",
       "        text-align: right;\n",
       "    }\n",
       "</style>\n",
       "<table border=\"1\" class=\"dataframe\">\n",
       "  <thead>\n",
       "    <tr style=\"text-align: right;\">\n",
       "      <th></th>\n",
       "      <th>Company</th>\n",
       "      <th>Person</th>\n",
       "      <th>Salary</th>\n",
       "    </tr>\n",
       "  </thead>\n",
       "  <tbody>\n",
       "    <tr>\n",
       "      <th>0</th>\n",
       "      <td>Google</td>\n",
       "      <td>Saskia</td>\n",
       "      <td>4000</td>\n",
       "    </tr>\n",
       "    <tr>\n",
       "      <th>1</th>\n",
       "      <td>Google</td>\n",
       "      <td>Glenn</td>\n",
       "      <td>2400</td>\n",
       "    </tr>\n",
       "    <tr>\n",
       "      <th>2</th>\n",
       "      <td>KLM</td>\n",
       "      <td>Niels</td>\n",
       "      <td>2800</td>\n",
       "    </tr>\n",
       "    <tr>\n",
       "      <th>3</th>\n",
       "      <td>KLM</td>\n",
       "      <td>Martijn</td>\n",
       "      <td>2800</td>\n",
       "    </tr>\n",
       "    <tr>\n",
       "      <th>4</th>\n",
       "      <td>KLM</td>\n",
       "      <td>Laura</td>\n",
       "      <td>2600</td>\n",
       "    </tr>\n",
       "    <tr>\n",
       "      <th>5</th>\n",
       "      <td>Ryanair</td>\n",
       "      <td>Joris</td>\n",
       "      <td>1600</td>\n",
       "    </tr>\n",
       "    <tr>\n",
       "      <th>6</th>\n",
       "      <td>Ryanair</td>\n",
       "      <td>Sara</td>\n",
       "      <td>2100</td>\n",
       "    </tr>\n",
       "  </tbody>\n",
       "</table>\n",
       "</div>"
      ],
      "text/plain": [
       "   Company   Person  Salary\n",
       "0   Google   Saskia    4000\n",
       "1   Google    Glenn    2400\n",
       "2      KLM    Niels    2800\n",
       "3      KLM  Martijn    2800\n",
       "4      KLM    Laura    2600\n",
       "5  Ryanair    Joris    1600\n",
       "6  Ryanair     Sara    2100"
      ]
     },
     "execution_count": 47,
     "metadata": {},
     "output_type": "execute_result"
    }
   ],
   "source": [
    "# Create a dataframe from a dictionary\n",
    "data = {'Company': ['Google', 'Google', 'KLM', 'KLM', 'KLM', 'Ryanair', 'Ryanair'], \n",
    "        'Person': ['Saskia', 'Glenn', 'Niels', 'Martijn', 'Laura', 'Joris', 'Sara'],\n",
    "       'Salary': [4000, 2400, 2800, 2800, 2600, 1600, 2100]}\n",
    "df = pd.DataFrame(data)\n",
    "\n",
    "# Data is in long format (usually preferred for data handling)\n",
    "df"
   ]
  },
  {
   "cell_type": "code",
   "execution_count": 48,
   "metadata": {},
   "outputs": [
    {
     "data": {
      "text/html": [
       "<div>\n",
       "<style scoped>\n",
       "    .dataframe tbody tr th:only-of-type {\n",
       "        vertical-align: middle;\n",
       "    }\n",
       "\n",
       "    .dataframe tbody tr th {\n",
       "        vertical-align: top;\n",
       "    }\n",
       "\n",
       "    .dataframe thead th {\n",
       "        text-align: right;\n",
       "    }\n",
       "</style>\n",
       "<table border=\"1\" class=\"dataframe\">\n",
       "  <thead>\n",
       "    <tr style=\"text-align: right;\">\n",
       "      <th>Person</th>\n",
       "      <th>Glenn</th>\n",
       "      <th>Joris</th>\n",
       "      <th>Laura</th>\n",
       "      <th>Martijn</th>\n",
       "      <th>Niels</th>\n",
       "      <th>Sara</th>\n",
       "      <th>Saskia</th>\n",
       "    </tr>\n",
       "    <tr>\n",
       "      <th>Company</th>\n",
       "      <th></th>\n",
       "      <th></th>\n",
       "      <th></th>\n",
       "      <th></th>\n",
       "      <th></th>\n",
       "      <th></th>\n",
       "      <th></th>\n",
       "    </tr>\n",
       "  </thead>\n",
       "  <tbody>\n",
       "    <tr>\n",
       "      <th>Google</th>\n",
       "      <td>2400.0</td>\n",
       "      <td>NaN</td>\n",
       "      <td>NaN</td>\n",
       "      <td>NaN</td>\n",
       "      <td>NaN</td>\n",
       "      <td>NaN</td>\n",
       "      <td>4000.0</td>\n",
       "    </tr>\n",
       "    <tr>\n",
       "      <th>KLM</th>\n",
       "      <td>NaN</td>\n",
       "      <td>NaN</td>\n",
       "      <td>2600.0</td>\n",
       "      <td>2800.0</td>\n",
       "      <td>2800.0</td>\n",
       "      <td>NaN</td>\n",
       "      <td>NaN</td>\n",
       "    </tr>\n",
       "    <tr>\n",
       "      <th>Ryanair</th>\n",
       "      <td>NaN</td>\n",
       "      <td>1600.0</td>\n",
       "      <td>NaN</td>\n",
       "      <td>NaN</td>\n",
       "      <td>NaN</td>\n",
       "      <td>2100.0</td>\n",
       "      <td>NaN</td>\n",
       "    </tr>\n",
       "  </tbody>\n",
       "</table>\n",
       "</div>"
      ],
      "text/plain": [
       "Person    Glenn   Joris   Laura  Martijn   Niels    Sara  Saskia\n",
       "Company                                                         \n",
       "Google   2400.0     NaN     NaN      NaN     NaN     NaN  4000.0\n",
       "KLM         NaN     NaN  2600.0   2800.0  2800.0     NaN     NaN\n",
       "Ryanair     NaN  1600.0     NaN      NaN     NaN  2100.0     NaN"
      ]
     },
     "execution_count": 48,
     "metadata": {},
     "output_type": "execute_result"
    }
   ],
   "source": [
    "# Pivoting to wide format (often used in reporting)\n",
    "df_wide = df.pivot(index='Company', columns='Person', values='Salary')\n",
    "df_wide"
   ]
  },
  {
   "cell_type": "code",
   "execution_count": 49,
   "metadata": {},
   "outputs": [
    {
     "data": {
      "text/html": [
       "<div>\n",
       "<style scoped>\n",
       "    .dataframe tbody tr th:only-of-type {\n",
       "        vertical-align: middle;\n",
       "    }\n",
       "\n",
       "    .dataframe tbody tr th {\n",
       "        vertical-align: top;\n",
       "    }\n",
       "\n",
       "    .dataframe thead th {\n",
       "        text-align: right;\n",
       "    }\n",
       "</style>\n",
       "<table border=\"1\" class=\"dataframe\">\n",
       "  <thead>\n",
       "    <tr style=\"text-align: right;\">\n",
       "      <th></th>\n",
       "      <th>Company</th>\n",
       "      <th>Person</th>\n",
       "      <th>Salary</th>\n",
       "    </tr>\n",
       "  </thead>\n",
       "  <tbody>\n",
       "    <tr>\n",
       "      <th>0</th>\n",
       "      <td>Google</td>\n",
       "      <td>Glenn</td>\n",
       "      <td>2400.0</td>\n",
       "    </tr>\n",
       "    <tr>\n",
       "      <th>1</th>\n",
       "      <td>KLM</td>\n",
       "      <td>Glenn</td>\n",
       "      <td>NaN</td>\n",
       "    </tr>\n",
       "    <tr>\n",
       "      <th>2</th>\n",
       "      <td>Ryanair</td>\n",
       "      <td>Glenn</td>\n",
       "      <td>NaN</td>\n",
       "    </tr>\n",
       "    <tr>\n",
       "      <th>3</th>\n",
       "      <td>Google</td>\n",
       "      <td>Joris</td>\n",
       "      <td>NaN</td>\n",
       "    </tr>\n",
       "    <tr>\n",
       "      <th>4</th>\n",
       "      <td>KLM</td>\n",
       "      <td>Joris</td>\n",
       "      <td>NaN</td>\n",
       "    </tr>\n",
       "    <tr>\n",
       "      <th>5</th>\n",
       "      <td>Ryanair</td>\n",
       "      <td>Joris</td>\n",
       "      <td>1600.0</td>\n",
       "    </tr>\n",
       "    <tr>\n",
       "      <th>6</th>\n",
       "      <td>Google</td>\n",
       "      <td>Laura</td>\n",
       "      <td>NaN</td>\n",
       "    </tr>\n",
       "    <tr>\n",
       "      <th>7</th>\n",
       "      <td>KLM</td>\n",
       "      <td>Laura</td>\n",
       "      <td>2600.0</td>\n",
       "    </tr>\n",
       "    <tr>\n",
       "      <th>8</th>\n",
       "      <td>Ryanair</td>\n",
       "      <td>Laura</td>\n",
       "      <td>NaN</td>\n",
       "    </tr>\n",
       "    <tr>\n",
       "      <th>9</th>\n",
       "      <td>Google</td>\n",
       "      <td>Martijn</td>\n",
       "      <td>NaN</td>\n",
       "    </tr>\n",
       "    <tr>\n",
       "      <th>10</th>\n",
       "      <td>KLM</td>\n",
       "      <td>Martijn</td>\n",
       "      <td>2800.0</td>\n",
       "    </tr>\n",
       "    <tr>\n",
       "      <th>11</th>\n",
       "      <td>Ryanair</td>\n",
       "      <td>Martijn</td>\n",
       "      <td>NaN</td>\n",
       "    </tr>\n",
       "    <tr>\n",
       "      <th>12</th>\n",
       "      <td>Google</td>\n",
       "      <td>Niels</td>\n",
       "      <td>NaN</td>\n",
       "    </tr>\n",
       "    <tr>\n",
       "      <th>13</th>\n",
       "      <td>KLM</td>\n",
       "      <td>Niels</td>\n",
       "      <td>2800.0</td>\n",
       "    </tr>\n",
       "    <tr>\n",
       "      <th>14</th>\n",
       "      <td>Ryanair</td>\n",
       "      <td>Niels</td>\n",
       "      <td>NaN</td>\n",
       "    </tr>\n",
       "    <tr>\n",
       "      <th>15</th>\n",
       "      <td>Google</td>\n",
       "      <td>Sara</td>\n",
       "      <td>NaN</td>\n",
       "    </tr>\n",
       "    <tr>\n",
       "      <th>16</th>\n",
       "      <td>KLM</td>\n",
       "      <td>Sara</td>\n",
       "      <td>NaN</td>\n",
       "    </tr>\n",
       "    <tr>\n",
       "      <th>17</th>\n",
       "      <td>Ryanair</td>\n",
       "      <td>Sara</td>\n",
       "      <td>2100.0</td>\n",
       "    </tr>\n",
       "    <tr>\n",
       "      <th>18</th>\n",
       "      <td>Google</td>\n",
       "      <td>Saskia</td>\n",
       "      <td>4000.0</td>\n",
       "    </tr>\n",
       "    <tr>\n",
       "      <th>19</th>\n",
       "      <td>KLM</td>\n",
       "      <td>Saskia</td>\n",
       "      <td>NaN</td>\n",
       "    </tr>\n",
       "    <tr>\n",
       "      <th>20</th>\n",
       "      <td>Ryanair</td>\n",
       "      <td>Saskia</td>\n",
       "      <td>NaN</td>\n",
       "    </tr>\n",
       "  </tbody>\n",
       "</table>\n",
       "</div>"
      ],
      "text/plain": [
       "    Company   Person  Salary\n",
       "0    Google    Glenn  2400.0\n",
       "1       KLM    Glenn     NaN\n",
       "2   Ryanair    Glenn     NaN\n",
       "3    Google    Joris     NaN\n",
       "4       KLM    Joris     NaN\n",
       "5   Ryanair    Joris  1600.0\n",
       "6    Google    Laura     NaN\n",
       "7       KLM    Laura  2600.0\n",
       "8   Ryanair    Laura     NaN\n",
       "9    Google  Martijn     NaN\n",
       "10      KLM  Martijn  2800.0\n",
       "11  Ryanair  Martijn     NaN\n",
       "12   Google    Niels     NaN\n",
       "13      KLM    Niels  2800.0\n",
       "14  Ryanair    Niels     NaN\n",
       "15   Google     Sara     NaN\n",
       "16      KLM     Sara     NaN\n",
       "17  Ryanair     Sara  2100.0\n",
       "18   Google   Saskia  4000.0\n",
       "19      KLM   Saskia     NaN\n",
       "20  Ryanair   Saskia     NaN"
      ]
     },
     "execution_count": 49,
     "metadata": {},
     "output_type": "execute_result"
    }
   ],
   "source": [
    "# Melting back to long format\n",
    "df_wide.reset_index() \\\n",
    "    .melt(id_vars='Company', var_name='Person', value_name='Salary')"
   ]
  },
  {
   "cell_type": "markdown",
   "metadata": {},
   "source": [
    "### Summary Part E (Long/Wide Conversions)\n",
    "\n",
    "**We learned how to**:\n",
    "- convert a dataframe in long format to wide format\n",
    "- convert a dataframe in wide format to long format\n",
    "\n",
    "\n",
    "**And made use of the following commands and methods**:\n",
    "\n",
    "```\n",
    "- .pivot()\n",
    "- .melt()\n",
    "```"
   ]
  },
  {
   "cell_type": "markdown",
   "metadata": {},
   "source": [
    "## F. Combining DataFrames\n",
    "\n",
    "There are 3 different ways of combining DataFrames in pandas:\n",
    "\n",
    "1. merging\n",
    "2. joining\n",
    "3. concatenating\n",
    "\n",
    "of which the `merge` command is the most important."
   ]
  },
  {
   "cell_type": "markdown",
   "metadata": {},
   "source": [
    "### Merge \n",
    "\n",
    "Merge is performed to combine two dataframes. The Merge operation has some useful parameters to set. \n",
    "\n",
    "> `on`: set the columns on which to join the dataframes. \n",
    "\n",
    "> `how`: default this parameter is set on 'inner', you have the option: \n",
    "    - left: Use keys from the left frame only\n",
    "    - right: Use keys from the right frame only \n",
    "    - outer: Use union of keys from both frames \n",
    "    - inner: Use intersection of keys from both frames. "
   ]
  },
  {
   "cell_type": "code",
   "execution_count": 50,
   "metadata": {},
   "outputs": [],
   "source": [
    "# Example dataframes\n",
    "df_salaries  = pd.DataFrame({'Company': ['Google', 'Google', 'KLM', 'KLM', 'KLM', 'Ryanair', 'Ryanair'], \n",
    "                             'Person': ['Saskia', 'Glenn', 'Niels', 'Martijn', 'Laura', 'Joris', 'Sara'],\n",
    "                             'Salary': [4000, 2400, 2800, 2800, 2600, 1600, 2100]},\n",
    "                           columns=['Person', 'Company', 'Salary'])\n",
    "\n",
    "df_personal = pd.DataFrame({'Person': ['Sara', 'Laura', 'Glenn', 'Roy'],\n",
    "                            'Age': ['25', '29', '41', '30'],\n",
    "                            'Country': ['Belgium', 'Australia', 'United States', 'Trinidad and Tobago']},\n",
    "                          columns=['Person', 'Age', 'Country'])"
   ]
  },
  {
   "cell_type": "code",
   "execution_count": 51,
   "metadata": {},
   "outputs": [
    {
     "data": {
      "text/html": [
       "<div>\n",
       "<style scoped>\n",
       "    .dataframe tbody tr th:only-of-type {\n",
       "        vertical-align: middle;\n",
       "    }\n",
       "\n",
       "    .dataframe tbody tr th {\n",
       "        vertical-align: top;\n",
       "    }\n",
       "\n",
       "    .dataframe thead th {\n",
       "        text-align: right;\n",
       "    }\n",
       "</style>\n",
       "<table border=\"1\" class=\"dataframe\">\n",
       "  <thead>\n",
       "    <tr style=\"text-align: right;\">\n",
       "      <th></th>\n",
       "      <th>Person</th>\n",
       "      <th>Company</th>\n",
       "      <th>Salary</th>\n",
       "    </tr>\n",
       "  </thead>\n",
       "  <tbody>\n",
       "    <tr>\n",
       "      <th>0</th>\n",
       "      <td>Saskia</td>\n",
       "      <td>Google</td>\n",
       "      <td>4000</td>\n",
       "    </tr>\n",
       "    <tr>\n",
       "      <th>1</th>\n",
       "      <td>Glenn</td>\n",
       "      <td>Google</td>\n",
       "      <td>2400</td>\n",
       "    </tr>\n",
       "    <tr>\n",
       "      <th>2</th>\n",
       "      <td>Niels</td>\n",
       "      <td>KLM</td>\n",
       "      <td>2800</td>\n",
       "    </tr>\n",
       "    <tr>\n",
       "      <th>3</th>\n",
       "      <td>Martijn</td>\n",
       "      <td>KLM</td>\n",
       "      <td>2800</td>\n",
       "    </tr>\n",
       "    <tr>\n",
       "      <th>4</th>\n",
       "      <td>Laura</td>\n",
       "      <td>KLM</td>\n",
       "      <td>2600</td>\n",
       "    </tr>\n",
       "    <tr>\n",
       "      <th>5</th>\n",
       "      <td>Joris</td>\n",
       "      <td>Ryanair</td>\n",
       "      <td>1600</td>\n",
       "    </tr>\n",
       "    <tr>\n",
       "      <th>6</th>\n",
       "      <td>Sara</td>\n",
       "      <td>Ryanair</td>\n",
       "      <td>2100</td>\n",
       "    </tr>\n",
       "  </tbody>\n",
       "</table>\n",
       "</div>"
      ],
      "text/plain": [
       "    Person  Company  Salary\n",
       "0   Saskia   Google    4000\n",
       "1    Glenn   Google    2400\n",
       "2    Niels      KLM    2800\n",
       "3  Martijn      KLM    2800\n",
       "4    Laura      KLM    2600\n",
       "5    Joris  Ryanair    1600\n",
       "6     Sara  Ryanair    2100"
      ]
     },
     "execution_count": 51,
     "metadata": {},
     "output_type": "execute_result"
    }
   ],
   "source": [
    "df_salaries"
   ]
  },
  {
   "cell_type": "code",
   "execution_count": 52,
   "metadata": {},
   "outputs": [
    {
     "data": {
      "text/html": [
       "<div>\n",
       "<style scoped>\n",
       "    .dataframe tbody tr th:only-of-type {\n",
       "        vertical-align: middle;\n",
       "    }\n",
       "\n",
       "    .dataframe tbody tr th {\n",
       "        vertical-align: top;\n",
       "    }\n",
       "\n",
       "    .dataframe thead th {\n",
       "        text-align: right;\n",
       "    }\n",
       "</style>\n",
       "<table border=\"1\" class=\"dataframe\">\n",
       "  <thead>\n",
       "    <tr style=\"text-align: right;\">\n",
       "      <th></th>\n",
       "      <th>Person</th>\n",
       "      <th>Age</th>\n",
       "      <th>Country</th>\n",
       "    </tr>\n",
       "  </thead>\n",
       "  <tbody>\n",
       "    <tr>\n",
       "      <th>0</th>\n",
       "      <td>Sara</td>\n",
       "      <td>25</td>\n",
       "      <td>Belgium</td>\n",
       "    </tr>\n",
       "    <tr>\n",
       "      <th>1</th>\n",
       "      <td>Laura</td>\n",
       "      <td>29</td>\n",
       "      <td>Australia</td>\n",
       "    </tr>\n",
       "    <tr>\n",
       "      <th>2</th>\n",
       "      <td>Glenn</td>\n",
       "      <td>41</td>\n",
       "      <td>United States</td>\n",
       "    </tr>\n",
       "    <tr>\n",
       "      <th>3</th>\n",
       "      <td>Roy</td>\n",
       "      <td>30</td>\n",
       "      <td>Trinidad and Tobago</td>\n",
       "    </tr>\n",
       "  </tbody>\n",
       "</table>\n",
       "</div>"
      ],
      "text/plain": [
       "  Person Age              Country\n",
       "0   Sara  25              Belgium\n",
       "1  Laura  29            Australia\n",
       "2  Glenn  41        United States\n",
       "3    Roy  30  Trinidad and Tobago"
      ]
     },
     "execution_count": 52,
     "metadata": {},
     "output_type": "execute_result"
    }
   ],
   "source": [
    "df_personal"
   ]
  },
  {
   "cell_type": "code",
   "execution_count": 53,
   "metadata": {},
   "outputs": [
    {
     "data": {
      "text/html": [
       "<div>\n",
       "<style scoped>\n",
       "    .dataframe tbody tr th:only-of-type {\n",
       "        vertical-align: middle;\n",
       "    }\n",
       "\n",
       "    .dataframe tbody tr th {\n",
       "        vertical-align: top;\n",
       "    }\n",
       "\n",
       "    .dataframe thead th {\n",
       "        text-align: right;\n",
       "    }\n",
       "</style>\n",
       "<table border=\"1\" class=\"dataframe\">\n",
       "  <thead>\n",
       "    <tr style=\"text-align: right;\">\n",
       "      <th></th>\n",
       "      <th>Person</th>\n",
       "      <th>Company</th>\n",
       "      <th>Salary</th>\n",
       "      <th>Age</th>\n",
       "      <th>Country</th>\n",
       "    </tr>\n",
       "  </thead>\n",
       "  <tbody>\n",
       "    <tr>\n",
       "      <th>0</th>\n",
       "      <td>Glenn</td>\n",
       "      <td>Google</td>\n",
       "      <td>2400</td>\n",
       "      <td>41</td>\n",
       "      <td>United States</td>\n",
       "    </tr>\n",
       "    <tr>\n",
       "      <th>1</th>\n",
       "      <td>Laura</td>\n",
       "      <td>KLM</td>\n",
       "      <td>2600</td>\n",
       "      <td>29</td>\n",
       "      <td>Australia</td>\n",
       "    </tr>\n",
       "    <tr>\n",
       "      <th>2</th>\n",
       "      <td>Sara</td>\n",
       "      <td>Ryanair</td>\n",
       "      <td>2100</td>\n",
       "      <td>25</td>\n",
       "      <td>Belgium</td>\n",
       "    </tr>\n",
       "  </tbody>\n",
       "</table>\n",
       "</div>"
      ],
      "text/plain": [
       "  Person  Company  Salary Age        Country\n",
       "0  Glenn   Google    2400  41  United States\n",
       "1  Laura      KLM    2600  29      Australia\n",
       "2   Sara  Ryanair    2100  25        Belgium"
      ]
     },
     "execution_count": 53,
     "metadata": {},
     "output_type": "execute_result"
    }
   ],
   "source": [
    "pd.merge(df_salaries, df_personal)"
   ]
  },
  {
   "cell_type": "code",
   "execution_count": 54,
   "metadata": {},
   "outputs": [
    {
     "data": {
      "text/html": [
       "<div>\n",
       "<style scoped>\n",
       "    .dataframe tbody tr th:only-of-type {\n",
       "        vertical-align: middle;\n",
       "    }\n",
       "\n",
       "    .dataframe tbody tr th {\n",
       "        vertical-align: top;\n",
       "    }\n",
       "\n",
       "    .dataframe thead th {\n",
       "        text-align: right;\n",
       "    }\n",
       "</style>\n",
       "<table border=\"1\" class=\"dataframe\">\n",
       "  <thead>\n",
       "    <tr style=\"text-align: right;\">\n",
       "      <th></th>\n",
       "      <th>Person</th>\n",
       "      <th>Company</th>\n",
       "      <th>Salary</th>\n",
       "      <th>Age</th>\n",
       "      <th>Country</th>\n",
       "    </tr>\n",
       "  </thead>\n",
       "  <tbody>\n",
       "    <tr>\n",
       "      <th>0</th>\n",
       "      <td>Saskia</td>\n",
       "      <td>Google</td>\n",
       "      <td>4000.0</td>\n",
       "      <td>NaN</td>\n",
       "      <td>NaN</td>\n",
       "    </tr>\n",
       "    <tr>\n",
       "      <th>1</th>\n",
       "      <td>Glenn</td>\n",
       "      <td>Google</td>\n",
       "      <td>2400.0</td>\n",
       "      <td>41</td>\n",
       "      <td>United States</td>\n",
       "    </tr>\n",
       "    <tr>\n",
       "      <th>2</th>\n",
       "      <td>Niels</td>\n",
       "      <td>KLM</td>\n",
       "      <td>2800.0</td>\n",
       "      <td>NaN</td>\n",
       "      <td>NaN</td>\n",
       "    </tr>\n",
       "    <tr>\n",
       "      <th>3</th>\n",
       "      <td>Martijn</td>\n",
       "      <td>KLM</td>\n",
       "      <td>2800.0</td>\n",
       "      <td>NaN</td>\n",
       "      <td>NaN</td>\n",
       "    </tr>\n",
       "    <tr>\n",
       "      <th>4</th>\n",
       "      <td>Laura</td>\n",
       "      <td>KLM</td>\n",
       "      <td>2600.0</td>\n",
       "      <td>29</td>\n",
       "      <td>Australia</td>\n",
       "    </tr>\n",
       "    <tr>\n",
       "      <th>5</th>\n",
       "      <td>Joris</td>\n",
       "      <td>Ryanair</td>\n",
       "      <td>1600.0</td>\n",
       "      <td>NaN</td>\n",
       "      <td>NaN</td>\n",
       "    </tr>\n",
       "    <tr>\n",
       "      <th>6</th>\n",
       "      <td>Sara</td>\n",
       "      <td>Ryanair</td>\n",
       "      <td>2100.0</td>\n",
       "      <td>25</td>\n",
       "      <td>Belgium</td>\n",
       "    </tr>\n",
       "    <tr>\n",
       "      <th>7</th>\n",
       "      <td>Roy</td>\n",
       "      <td>NaN</td>\n",
       "      <td>NaN</td>\n",
       "      <td>30</td>\n",
       "      <td>Trinidad and Tobago</td>\n",
       "    </tr>\n",
       "  </tbody>\n",
       "</table>\n",
       "</div>"
      ],
      "text/plain": [
       "    Person  Company  Salary  Age              Country\n",
       "0   Saskia   Google  4000.0  NaN                  NaN\n",
       "1    Glenn   Google  2400.0   41        United States\n",
       "2    Niels      KLM  2800.0  NaN                  NaN\n",
       "3  Martijn      KLM  2800.0  NaN                  NaN\n",
       "4    Laura      KLM  2600.0   29            Australia\n",
       "5    Joris  Ryanair  1600.0  NaN                  NaN\n",
       "6     Sara  Ryanair  2100.0   25              Belgium\n",
       "7      Roy      NaN     NaN   30  Trinidad and Tobago"
      ]
     },
     "execution_count": 54,
     "metadata": {},
     "output_type": "execute_result"
    }
   ],
   "source": [
    "pd.merge(df_salaries, df_personal, how='outer', on=['Person'])"
   ]
  },
  {
   "cell_type": "code",
   "execution_count": 55,
   "metadata": {},
   "outputs": [
    {
     "data": {
      "text/html": [
       "<div>\n",
       "<style scoped>\n",
       "    .dataframe tbody tr th:only-of-type {\n",
       "        vertical-align: middle;\n",
       "    }\n",
       "\n",
       "    .dataframe tbody tr th {\n",
       "        vertical-align: top;\n",
       "    }\n",
       "\n",
       "    .dataframe thead th {\n",
       "        text-align: right;\n",
       "    }\n",
       "</style>\n",
       "<table border=\"1\" class=\"dataframe\">\n",
       "  <thead>\n",
       "    <tr style=\"text-align: right;\">\n",
       "      <th></th>\n",
       "      <th>Person</th>\n",
       "      <th>Company</th>\n",
       "      <th>Salary</th>\n",
       "      <th>Age</th>\n",
       "      <th>Country</th>\n",
       "    </tr>\n",
       "  </thead>\n",
       "  <tbody>\n",
       "    <tr>\n",
       "      <th>0</th>\n",
       "      <td>Glenn</td>\n",
       "      <td>Google</td>\n",
       "      <td>2400.0</td>\n",
       "      <td>41</td>\n",
       "      <td>United States</td>\n",
       "    </tr>\n",
       "    <tr>\n",
       "      <th>1</th>\n",
       "      <td>Laura</td>\n",
       "      <td>KLM</td>\n",
       "      <td>2600.0</td>\n",
       "      <td>29</td>\n",
       "      <td>Australia</td>\n",
       "    </tr>\n",
       "    <tr>\n",
       "      <th>2</th>\n",
       "      <td>Sara</td>\n",
       "      <td>Ryanair</td>\n",
       "      <td>2100.0</td>\n",
       "      <td>25</td>\n",
       "      <td>Belgium</td>\n",
       "    </tr>\n",
       "    <tr>\n",
       "      <th>3</th>\n",
       "      <td>Roy</td>\n",
       "      <td>NaN</td>\n",
       "      <td>NaN</td>\n",
       "      <td>30</td>\n",
       "      <td>Trinidad and Tobago</td>\n",
       "    </tr>\n",
       "  </tbody>\n",
       "</table>\n",
       "</div>"
      ],
      "text/plain": [
       "  Person  Company  Salary Age              Country\n",
       "0  Glenn   Google  2400.0  41        United States\n",
       "1  Laura      KLM  2600.0  29            Australia\n",
       "2   Sara  Ryanair  2100.0  25              Belgium\n",
       "3    Roy      NaN     NaN  30  Trinidad and Tobago"
      ]
     },
     "execution_count": 55,
     "metadata": {},
     "output_type": "execute_result"
    }
   ],
   "source": [
    "pd.merge(df_salaries, df_personal, how='right', on=['Person'])"
   ]
  },
  {
   "cell_type": "markdown",
   "metadata": {},
   "source": [
    "### Joining\n",
    "\n",
    "When you want to join two dataframes based on the **index**, the columns are combined. "
   ]
  },
  {
   "cell_type": "code",
   "execution_count": 56,
   "metadata": {},
   "outputs": [],
   "source": [
    "# Example dataframes\n",
    "df_salaries  = pd.DataFrame({'Company': ['Google', 'Google', 'KLM', 'KLM', 'KLM', 'Ryanair', 'Ryanair'], \n",
    "                             'Person': ['Saskia', 'Glenn', 'Niels', 'Martijn', 'Laura', 'Joris', 'Sara'],\n",
    "                             'Salary': [4000, 2400, 2800, 2800, 2600, 1600, 2100]},\n",
    "                           columns=['Person', 'Company', 'Salary'])\n",
    "\n",
    "df_personal = pd.DataFrame({'Person': ['Sara', 'Laura', 'Glenn', 'Roy'],\n",
    "                            'Age': ['25', '29', '41', '30'],\n",
    "                            'Country': ['Belgium', 'Australia', 'United States', 'Trinidad and Tobago']},\n",
    "                          columns=['Person', 'Country', 'Age'])\n",
    "\n",
    "# Set index to 'Person'\n",
    "df_salaries.set_index('Person', inplace=True)\n",
    "df_personal.set_index('Person', inplace=True)"
   ]
  },
  {
   "cell_type": "code",
   "execution_count": 57,
   "metadata": {},
   "outputs": [
    {
     "data": {
      "text/html": [
       "<div>\n",
       "<style scoped>\n",
       "    .dataframe tbody tr th:only-of-type {\n",
       "        vertical-align: middle;\n",
       "    }\n",
       "\n",
       "    .dataframe tbody tr th {\n",
       "        vertical-align: top;\n",
       "    }\n",
       "\n",
       "    .dataframe thead th {\n",
       "        text-align: right;\n",
       "    }\n",
       "</style>\n",
       "<table border=\"1\" class=\"dataframe\">\n",
       "  <thead>\n",
       "    <tr style=\"text-align: right;\">\n",
       "      <th></th>\n",
       "      <th>Company</th>\n",
       "      <th>Salary</th>\n",
       "    </tr>\n",
       "    <tr>\n",
       "      <th>Person</th>\n",
       "      <th></th>\n",
       "      <th></th>\n",
       "    </tr>\n",
       "  </thead>\n",
       "  <tbody>\n",
       "    <tr>\n",
       "      <th>Saskia</th>\n",
       "      <td>Google</td>\n",
       "      <td>4000</td>\n",
       "    </tr>\n",
       "    <tr>\n",
       "      <th>Glenn</th>\n",
       "      <td>Google</td>\n",
       "      <td>2400</td>\n",
       "    </tr>\n",
       "    <tr>\n",
       "      <th>Niels</th>\n",
       "      <td>KLM</td>\n",
       "      <td>2800</td>\n",
       "    </tr>\n",
       "    <tr>\n",
       "      <th>Martijn</th>\n",
       "      <td>KLM</td>\n",
       "      <td>2800</td>\n",
       "    </tr>\n",
       "    <tr>\n",
       "      <th>Laura</th>\n",
       "      <td>KLM</td>\n",
       "      <td>2600</td>\n",
       "    </tr>\n",
       "    <tr>\n",
       "      <th>Joris</th>\n",
       "      <td>Ryanair</td>\n",
       "      <td>1600</td>\n",
       "    </tr>\n",
       "    <tr>\n",
       "      <th>Sara</th>\n",
       "      <td>Ryanair</td>\n",
       "      <td>2100</td>\n",
       "    </tr>\n",
       "  </tbody>\n",
       "</table>\n",
       "</div>"
      ],
      "text/plain": [
       "         Company  Salary\n",
       "Person                  \n",
       "Saskia    Google    4000\n",
       "Glenn     Google    2400\n",
       "Niels        KLM    2800\n",
       "Martijn      KLM    2800\n",
       "Laura        KLM    2600\n",
       "Joris    Ryanair    1600\n",
       "Sara     Ryanair    2100"
      ]
     },
     "execution_count": 57,
     "metadata": {},
     "output_type": "execute_result"
    }
   ],
   "source": [
    "df_salaries"
   ]
  },
  {
   "cell_type": "code",
   "execution_count": 58,
   "metadata": {},
   "outputs": [
    {
     "data": {
      "text/html": [
       "<div>\n",
       "<style scoped>\n",
       "    .dataframe tbody tr th:only-of-type {\n",
       "        vertical-align: middle;\n",
       "    }\n",
       "\n",
       "    .dataframe tbody tr th {\n",
       "        vertical-align: top;\n",
       "    }\n",
       "\n",
       "    .dataframe thead th {\n",
       "        text-align: right;\n",
       "    }\n",
       "</style>\n",
       "<table border=\"1\" class=\"dataframe\">\n",
       "  <thead>\n",
       "    <tr style=\"text-align: right;\">\n",
       "      <th></th>\n",
       "      <th>Country</th>\n",
       "      <th>Age</th>\n",
       "    </tr>\n",
       "    <tr>\n",
       "      <th>Person</th>\n",
       "      <th></th>\n",
       "      <th></th>\n",
       "    </tr>\n",
       "  </thead>\n",
       "  <tbody>\n",
       "    <tr>\n",
       "      <th>Sara</th>\n",
       "      <td>Belgium</td>\n",
       "      <td>25</td>\n",
       "    </tr>\n",
       "    <tr>\n",
       "      <th>Laura</th>\n",
       "      <td>Australia</td>\n",
       "      <td>29</td>\n",
       "    </tr>\n",
       "    <tr>\n",
       "      <th>Glenn</th>\n",
       "      <td>United States</td>\n",
       "      <td>41</td>\n",
       "    </tr>\n",
       "    <tr>\n",
       "      <th>Roy</th>\n",
       "      <td>Trinidad and Tobago</td>\n",
       "      <td>30</td>\n",
       "    </tr>\n",
       "  </tbody>\n",
       "</table>\n",
       "</div>"
      ],
      "text/plain": [
       "                    Country Age\n",
       "Person                         \n",
       "Sara                Belgium  25\n",
       "Laura             Australia  29\n",
       "Glenn         United States  41\n",
       "Roy     Trinidad and Tobago  30"
      ]
     },
     "execution_count": 58,
     "metadata": {},
     "output_type": "execute_result"
    }
   ],
   "source": [
    "df_personal"
   ]
  },
  {
   "cell_type": "code",
   "execution_count": 59,
   "metadata": {},
   "outputs": [
    {
     "data": {
      "text/html": [
       "<div>\n",
       "<style scoped>\n",
       "    .dataframe tbody tr th:only-of-type {\n",
       "        vertical-align: middle;\n",
       "    }\n",
       "\n",
       "    .dataframe tbody tr th {\n",
       "        vertical-align: top;\n",
       "    }\n",
       "\n",
       "    .dataframe thead th {\n",
       "        text-align: right;\n",
       "    }\n",
       "</style>\n",
       "<table border=\"1\" class=\"dataframe\">\n",
       "  <thead>\n",
       "    <tr style=\"text-align: right;\">\n",
       "      <th></th>\n",
       "      <th>Company</th>\n",
       "      <th>Salary</th>\n",
       "      <th>Country</th>\n",
       "      <th>Age</th>\n",
       "    </tr>\n",
       "    <tr>\n",
       "      <th>Person</th>\n",
       "      <th></th>\n",
       "      <th></th>\n",
       "      <th></th>\n",
       "      <th></th>\n",
       "    </tr>\n",
       "  </thead>\n",
       "  <tbody>\n",
       "    <tr>\n",
       "      <th>Glenn</th>\n",
       "      <td>Google</td>\n",
       "      <td>2400</td>\n",
       "      <td>United States</td>\n",
       "      <td>41</td>\n",
       "    </tr>\n",
       "    <tr>\n",
       "      <th>Laura</th>\n",
       "      <td>KLM</td>\n",
       "      <td>2600</td>\n",
       "      <td>Australia</td>\n",
       "      <td>29</td>\n",
       "    </tr>\n",
       "    <tr>\n",
       "      <th>Sara</th>\n",
       "      <td>Ryanair</td>\n",
       "      <td>2100</td>\n",
       "      <td>Belgium</td>\n",
       "      <td>25</td>\n",
       "    </tr>\n",
       "  </tbody>\n",
       "</table>\n",
       "</div>"
      ],
      "text/plain": [
       "        Company  Salary        Country Age\n",
       "Person                                    \n",
       "Glenn    Google    2400  United States  41\n",
       "Laura       KLM    2600      Australia  29\n",
       "Sara    Ryanair    2100        Belgium  25"
      ]
     },
     "execution_count": 59,
     "metadata": {},
     "output_type": "execute_result"
    }
   ],
   "source": [
    "df_salaries.join(df_personal, how='inner')"
   ]
  },
  {
   "cell_type": "markdown",
   "metadata": {},
   "source": [
    "### Concatenating\n",
    "\n",
    "When you Concatenate DataFrames together the dataframes are glued together, note that the dimensions of the dataframes should match along the axis. "
   ]
  },
  {
   "cell_type": "code",
   "execution_count": 60,
   "metadata": {},
   "outputs": [],
   "source": [
    "df1 = pd.DataFrame({'A': ['A0', 'A1', 'A2'],\n",
    "                    'B': ['B0', 'B1', 'B2'],\n",
    "                    'C': ['C0', 'C1', 'C2'],}, \n",
    "                   index= [0,1,2])\n",
    "\n",
    "df2 = pd.DataFrame({'A': ['A3', 'A4', 'A5'],\n",
    "                    'B': ['B3', 'B4', 'B5'],\n",
    "                    'C': ['C3', 'C4', 'C5'],}, \n",
    "                   index= [4,5,6])\n",
    "\n",
    "df3 = pd.DataFrame({'A': ['A6', 'A7', 'A8'],\n",
    "                    'B': ['B6', 'B7', 'B8'],\n",
    "                    'C': ['C6', 'C7', 'C8'],}, \n",
    "                   index= [7,8,9])"
   ]
  },
  {
   "cell_type": "code",
   "execution_count": 61,
   "metadata": {},
   "outputs": [
    {
     "data": {
      "text/html": [
       "<div>\n",
       "<style scoped>\n",
       "    .dataframe tbody tr th:only-of-type {\n",
       "        vertical-align: middle;\n",
       "    }\n",
       "\n",
       "    .dataframe tbody tr th {\n",
       "        vertical-align: top;\n",
       "    }\n",
       "\n",
       "    .dataframe thead th {\n",
       "        text-align: right;\n",
       "    }\n",
       "</style>\n",
       "<table border=\"1\" class=\"dataframe\">\n",
       "  <thead>\n",
       "    <tr style=\"text-align: right;\">\n",
       "      <th></th>\n",
       "      <th>A</th>\n",
       "      <th>B</th>\n",
       "      <th>C</th>\n",
       "    </tr>\n",
       "  </thead>\n",
       "  <tbody>\n",
       "    <tr>\n",
       "      <th>0</th>\n",
       "      <td>A0</td>\n",
       "      <td>B0</td>\n",
       "      <td>C0</td>\n",
       "    </tr>\n",
       "    <tr>\n",
       "      <th>1</th>\n",
       "      <td>A1</td>\n",
       "      <td>B1</td>\n",
       "      <td>C1</td>\n",
       "    </tr>\n",
       "    <tr>\n",
       "      <th>2</th>\n",
       "      <td>A2</td>\n",
       "      <td>B2</td>\n",
       "      <td>C2</td>\n",
       "    </tr>\n",
       "    <tr>\n",
       "      <th>4</th>\n",
       "      <td>A3</td>\n",
       "      <td>B3</td>\n",
       "      <td>C3</td>\n",
       "    </tr>\n",
       "    <tr>\n",
       "      <th>5</th>\n",
       "      <td>A4</td>\n",
       "      <td>B4</td>\n",
       "      <td>C4</td>\n",
       "    </tr>\n",
       "    <tr>\n",
       "      <th>6</th>\n",
       "      <td>A5</td>\n",
       "      <td>B5</td>\n",
       "      <td>C5</td>\n",
       "    </tr>\n",
       "    <tr>\n",
       "      <th>7</th>\n",
       "      <td>A6</td>\n",
       "      <td>B6</td>\n",
       "      <td>C6</td>\n",
       "    </tr>\n",
       "    <tr>\n",
       "      <th>8</th>\n",
       "      <td>A7</td>\n",
       "      <td>B7</td>\n",
       "      <td>C7</td>\n",
       "    </tr>\n",
       "    <tr>\n",
       "      <th>9</th>\n",
       "      <td>A8</td>\n",
       "      <td>B8</td>\n",
       "      <td>C8</td>\n",
       "    </tr>\n",
       "  </tbody>\n",
       "</table>\n",
       "</div>"
      ],
      "text/plain": [
       "    A   B   C\n",
       "0  A0  B0  C0\n",
       "1  A1  B1  C1\n",
       "2  A2  B2  C2\n",
       "4  A3  B3  C3\n",
       "5  A4  B4  C4\n",
       "6  A5  B5  C5\n",
       "7  A6  B6  C6\n",
       "8  A7  B7  C7\n",
       "9  A8  B8  C8"
      ]
     },
     "execution_count": 61,
     "metadata": {},
     "output_type": "execute_result"
    }
   ],
   "source": [
    "pd.concat([df1,df2,df3])"
   ]
  },
  {
   "cell_type": "markdown",
   "metadata": {},
   "source": [
    "### Summary Part F (Combining DataFrames)\n",
    "\n",
    "**We learned how to**:\n",
    "- merge, join and concatenate dataframes together\n",
    "- how inner, outer, left and right joins work\n",
    "\n",
    "**And made use of the following commands and methods**:\n",
    "\n",
    "```\n",
    "- pd.merge()\n",
    "- df1.join(df2)\n",
    "- pd.concat()\n",
    "```"
   ]
  },
  {
   "cell_type": "markdown",
   "metadata": {},
   "source": [
    "# Conclusion\n",
    "\n",
    "**This concludes our discussion of:**\n",
    "- A. Creating DataFrames\n",
    "- B. Selecting and Sorting\n",
    "- C. Modifying Data\n",
    "- D. Grouped Operations\n",
    "- E. Long/Wide Conversions\n",
    "- F. Combining DataFrames\n",
    "\n",
    "**Next**: Exercises can be found in the same directory as this notebook.\n",
    "\n",
    "\n",
    "# References\n",
    "\n",
    "- Pandas documentation: http://pandas.pydata.org/pandas-docs/stable/\n",
    "- Python for Data Analysis (Wes McKinney): https://www.amazon.com/Python-Data-Analysis-Wrangling-IPython/dp/1449319793"
   ]
  }
 ],
 "metadata": {
  "anaconda-cloud": {},
  "kernelspec": {
   "display_name": "Python 3",
   "language": "python",
   "name": "python3"
  },
  "language_info": {
   "codemirror_mode": {
    "name": "ipython",
    "version": 3
   },
   "file_extension": ".py",
   "mimetype": "text/x-python",
   "name": "python",
   "nbconvert_exporter": "python",
   "pygments_lexer": "ipython3",
   "version": "3.8.5"
  }
 },
 "nbformat": 4,
 "nbformat_minor": 1
}
