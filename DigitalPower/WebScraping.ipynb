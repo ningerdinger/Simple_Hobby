{
 "cells": [
  {
   "cell_type": "code",
   "execution_count": 1,
   "metadata": {},
   "outputs": [],
   "source": [
    "from selenium import webdriver\n",
    "from selenium.webdriver.common.by import By\n",
    "from selenium.webdriver.support.ui import WebDriverWait\n",
    "from selenium.webdriver.common.by import By\n",
    "from selenium.webdriver.support import expected_conditions as EC\n",
    "import time\n",
    "\n",
    "# url = 'https://www.glassdoor.co.in/Job/los-angeles-data-scientist-jobs-SRCH_IL.0,11_IC1146821_KE12,26.htm'\n",
    "# path = 'C:/Users/Ning wei/Documents/Digital Power/DigitalPower/chromedriver.exe'\n",
    "# options = webdriver.ChromeOptions()\n",
    "# driver = webdriver.Chrome(executable_path=path, options=options)\n",
    "# driver.get(url)\n",
    "# data = driver.find_elements_by_class_name('d-flex flex-column pl-sm css-1buaf54 job-search-key-1mn3dn8 e1rrn5ka0')\n",
    "# for d in data:\n",
    "#     company = d.find_element_by_xpath('.//*[@id=\"MainCol\"]/div[1]/ul/li[1]/div[2]/a').text\n",
    "#     job = d.find_element_by_xpath('.//*[@id=\"MainCol\"]/div[1]/ul/li[1]/div[2]/div[1]/a').text\n",
    "#     location = d.find_element_by_xpath('.//*[@id=\"MainCol\"]/div[1]/ul/li[1]/div[2]/div[2]/span').text\n",
    "#     print(company, job, location)\n",
    "\n",
    "# //*[@id=\"MainCol\"]/div[2]/div/div[1]/button[7]\n"
   ]
  },
  {
   "cell_type": "code",
   "execution_count": 2,
   "metadata": {},
   "outputs": [
    {
     "name": "stderr",
     "output_type": "stream",
     "text": [
      "C:\\Users\\jelle\\AppData\\Local\\Temp\\ipykernel_10520\\3921029368.py:4: DeprecationWarning: executable_path has been deprecated, please pass in a Service object\n",
      "  driver = webdriver.Chrome(executable_path=path, options=options)\n"
     ]
    },
    {
     "name": "stdout",
     "output_type": "stream",
     "text": [
      "TikTok\n",
      "Data Scientist - TikTok US - Tech Services\n",
      "Los Angeles, CA\n",
      "Simplehuman\n"
     ]
    }
   ],
   "source": [
    "url = 'https://www.glassdoor.co.in/Job/los-angeles-data-scientist-jobs-SRCH_IL.0,11_IC1146821_KE12,26.htm'\n",
    "path = 'C:/Users/jelle/OneDrive/Documenten/DigitalPower/chromedriver.exe'\n",
    "options = webdriver.ChromeOptions()\n",
    "driver = webdriver.Chrome(executable_path=path, options=options)\n",
    "driver.get(url)\n",
    "# data = driver.find_element(By.XPATH,'//*[@id=\"JDCol\"]/div/article/div/div[1]/div/div/div[1]/div[3]/div[1]/div[2]').text\n",
    "data = driver.find_element(By.XPATH,'//*[@id=\"MainCol\"]/div[1]/ul/li[1]/div[2]/div[1]').text\n",
    "print(data)\n",
    "data = driver.find_element(By.XPATH,'//*[@id=\"MainCol\"]/div[1]/ul/li[1]/div[2]/a').text\n",
    "print(data)\n",
    "data = driver.find_element(By.XPATH,'//*[@id=\"MainCol\"]/div[1]/ul/li[1]/div[2]/div[2]').text\n",
    "print(data)\n",
    "WebDriverWait(driver, 20).until(EC.element_to_be_clickable((By.XPATH, '//*[@id=\"MainCol\"]/div[2]/div/div[1]/button[7]'))).click()\n",
    "time.sleep(0.5)\n",
    "data = driver.find_element(By.XPATH,'//*[@id=\"MainCol\"]/div[1]/ul/li[1]/div[2]/div[1]').text\n",
    "print(data)"
   ]
  },
  {
   "cell_type": "code",
   "execution_count": 3,
   "metadata": {},
   "outputs": [
    {
     "ename": "ElementClickInterceptedException",
     "evalue": "Message: element click intercepted: Element <button aria-label=\"Next\" class=\"nextButton css-1hq9k8 e13qs2071\" data-direction=\"next\" data-test=\"pagination-next\" type=\"button\">...</button> is not clickable at point (188, 783). Other element would receive the click: <p id=\"onetrust-policy-text\">...</p>\n  (Session info: chrome=104.0.5112.81)\nStacktrace:\nBacktrace:\n\tOrdinal0 [0x006D78B3+2193587]\n\tOrdinal0 [0x00670681+1771137]\n\tOrdinal0 [0x005841A8+803240]\n\tOrdinal0 [0x005B8C84+1019012]\n\tOrdinal0 [0x005B6C48+1010760]\n\tOrdinal0 [0x005B493B+1001787]\n\tOrdinal0 [0x005B3699+997017]\n\tOrdinal0 [0x005A9223+954915]\n\tOrdinal0 [0x005CD7AC+1103788]\n\tOrdinal0 [0x005A8C04+953348]\n\tOrdinal0 [0x005CD9C4+1104324]\n\tOrdinal0 [0x005DDAE2+1170146]\n\tOrdinal0 [0x005CD5C6+1103302]\n\tOrdinal0 [0x005A77E0+948192]\n\tOrdinal0 [0x005A86E6+952038]\n\tGetHandleVerifier [0x00980CB2+2738370]\n\tGetHandleVerifier [0x009721B8+2678216]\n\tGetHandleVerifier [0x007617AA+512954]\n\tGetHandleVerifier [0x00760856+509030]\n\tOrdinal0 [0x0067743B+1799227]\n\tOrdinal0 [0x0067BB68+1817448]\n\tOrdinal0 [0x0067BC55+1817685]\n\tOrdinal0 [0x00685230+1856048]\n\tBaseThreadInitThunk [0x75D76739+25]\n\tRtlGetFullPathName_UEx [0x77048FEF+1215]\n\tRtlGetFullPathName_UEx [0x77048FBD+1165]\n",
     "output_type": "error",
     "traceback": [
      "\u001b[1;31m---------------------------------------------------------------------------\u001b[0m",
      "\u001b[1;31mElementClickInterceptedException\u001b[0m          Traceback (most recent call last)",
      "\u001b[1;32mc:\\Users\\jelle\\OneDrive\\Documenten\\DigitalPower\\WebScraping.ipynb Cell 3\u001b[0m in \u001b[0;36m<cell line: 1>\u001b[1;34m()\u001b[0m\n\u001b[1;32m----> <a href='vscode-notebook-cell:/c%3A/Users/jelle/OneDrive/Documenten/DigitalPower/WebScraping.ipynb#W2sZmlsZQ%3D%3D?line=0'>1</a>\u001b[0m WebDriverWait(driver, \u001b[39m20\u001b[39;49m)\u001b[39m.\u001b[39;49muntil(EC\u001b[39m.\u001b[39;49melement_to_be_clickable((By\u001b[39m.\u001b[39;49mXPATH, \u001b[39m'\u001b[39;49m\u001b[39m//*[@id=\u001b[39;49m\u001b[39m\"\u001b[39;49m\u001b[39mMainCol\u001b[39;49m\u001b[39m\"\u001b[39;49m\u001b[39m]/div[2]/div/div[1]/button[7]\u001b[39;49m\u001b[39m'\u001b[39;49m)))\u001b[39m.\u001b[39;49mclick()\n",
      "File \u001b[1;32mc:\\Users\\jelle\\AppData\\Local\\Programs\\Python\\Python310\\lib\\site-packages\\selenium\\webdriver\\remote\\webelement.py:89\u001b[0m, in \u001b[0;36mWebElement.click\u001b[1;34m(self)\u001b[0m\n\u001b[0;32m     87\u001b[0m \u001b[39mdef\u001b[39;00m \u001b[39mclick\u001b[39m(\u001b[39mself\u001b[39m) \u001b[39m-\u001b[39m\u001b[39m>\u001b[39m \u001b[39mNone\u001b[39;00m:\n\u001b[0;32m     88\u001b[0m     \u001b[39m\"\"\"Clicks the element.\"\"\"\u001b[39;00m\n\u001b[1;32m---> 89\u001b[0m     \u001b[39mself\u001b[39;49m\u001b[39m.\u001b[39;49m_execute(Command\u001b[39m.\u001b[39;49mCLICK_ELEMENT)\n",
      "File \u001b[1;32mc:\\Users\\jelle\\AppData\\Local\\Programs\\Python\\Python310\\lib\\site-packages\\selenium\\webdriver\\remote\\webelement.py:773\u001b[0m, in \u001b[0;36mWebElement._execute\u001b[1;34m(self, command, params)\u001b[0m\n\u001b[0;32m    771\u001b[0m     params \u001b[39m=\u001b[39m {}\n\u001b[0;32m    772\u001b[0m params[\u001b[39m'\u001b[39m\u001b[39mid\u001b[39m\u001b[39m'\u001b[39m] \u001b[39m=\u001b[39m \u001b[39mself\u001b[39m\u001b[39m.\u001b[39m_id\n\u001b[1;32m--> 773\u001b[0m \u001b[39mreturn\u001b[39;00m \u001b[39mself\u001b[39;49m\u001b[39m.\u001b[39;49m_parent\u001b[39m.\u001b[39;49mexecute(command, params)\n",
      "File \u001b[1;32mc:\\Users\\jelle\\AppData\\Local\\Programs\\Python\\Python310\\lib\\site-packages\\selenium\\webdriver\\remote\\webdriver.py:430\u001b[0m, in \u001b[0;36mWebDriver.execute\u001b[1;34m(self, driver_command, params)\u001b[0m\n\u001b[0;32m    428\u001b[0m response \u001b[39m=\u001b[39m \u001b[39mself\u001b[39m\u001b[39m.\u001b[39mcommand_executor\u001b[39m.\u001b[39mexecute(driver_command, params)\n\u001b[0;32m    429\u001b[0m \u001b[39mif\u001b[39;00m response:\n\u001b[1;32m--> 430\u001b[0m     \u001b[39mself\u001b[39;49m\u001b[39m.\u001b[39;49merror_handler\u001b[39m.\u001b[39;49mcheck_response(response)\n\u001b[0;32m    431\u001b[0m     response[\u001b[39m'\u001b[39m\u001b[39mvalue\u001b[39m\u001b[39m'\u001b[39m] \u001b[39m=\u001b[39m \u001b[39mself\u001b[39m\u001b[39m.\u001b[39m_unwrap_value(\n\u001b[0;32m    432\u001b[0m         response\u001b[39m.\u001b[39mget(\u001b[39m'\u001b[39m\u001b[39mvalue\u001b[39m\u001b[39m'\u001b[39m, \u001b[39mNone\u001b[39;00m))\n\u001b[0;32m    433\u001b[0m     \u001b[39mreturn\u001b[39;00m response\n",
      "File \u001b[1;32mc:\\Users\\jelle\\AppData\\Local\\Programs\\Python\\Python310\\lib\\site-packages\\selenium\\webdriver\\remote\\errorhandler.py:247\u001b[0m, in \u001b[0;36mErrorHandler.check_response\u001b[1;34m(self, response)\u001b[0m\n\u001b[0;32m    245\u001b[0m         alert_text \u001b[39m=\u001b[39m value[\u001b[39m'\u001b[39m\u001b[39malert\u001b[39m\u001b[39m'\u001b[39m]\u001b[39m.\u001b[39mget(\u001b[39m'\u001b[39m\u001b[39mtext\u001b[39m\u001b[39m'\u001b[39m)\n\u001b[0;32m    246\u001b[0m     \u001b[39mraise\u001b[39;00m exception_class(message, screen, stacktrace, alert_text)  \u001b[39m# type: ignore[call-arg]  # mypy is not smart enough here\u001b[39;00m\n\u001b[1;32m--> 247\u001b[0m \u001b[39mraise\u001b[39;00m exception_class(message, screen, stacktrace)\n",
      "\u001b[1;31mElementClickInterceptedException\u001b[0m: Message: element click intercepted: Element <button aria-label=\"Next\" class=\"nextButton css-1hq9k8 e13qs2071\" data-direction=\"next\" data-test=\"pagination-next\" type=\"button\">...</button> is not clickable at point (188, 783). Other element would receive the click: <p id=\"onetrust-policy-text\">...</p>\n  (Session info: chrome=104.0.5112.81)\nStacktrace:\nBacktrace:\n\tOrdinal0 [0x006D78B3+2193587]\n\tOrdinal0 [0x00670681+1771137]\n\tOrdinal0 [0x005841A8+803240]\n\tOrdinal0 [0x005B8C84+1019012]\n\tOrdinal0 [0x005B6C48+1010760]\n\tOrdinal0 [0x005B493B+1001787]\n\tOrdinal0 [0x005B3699+997017]\n\tOrdinal0 [0x005A9223+954915]\n\tOrdinal0 [0x005CD7AC+1103788]\n\tOrdinal0 [0x005A8C04+953348]\n\tOrdinal0 [0x005CD9C4+1104324]\n\tOrdinal0 [0x005DDAE2+1170146]\n\tOrdinal0 [0x005CD5C6+1103302]\n\tOrdinal0 [0x005A77E0+948192]\n\tOrdinal0 [0x005A86E6+952038]\n\tGetHandleVerifier [0x00980CB2+2738370]\n\tGetHandleVerifier [0x009721B8+2678216]\n\tGetHandleVerifier [0x007617AA+512954]\n\tGetHandleVerifier [0x00760856+509030]\n\tOrdinal0 [0x0067743B+1799227]\n\tOrdinal0 [0x0067BB68+1817448]\n\tOrdinal0 [0x0067BC55+1817685]\n\tOrdinal0 [0x00685230+1856048]\n\tBaseThreadInitThunk [0x75D76739+25]\n\tRtlGetFullPathName_UEx [0x77048FEF+1215]\n\tRtlGetFullPathName_UEx [0x77048FBD+1165]\n"
     ]
    }
   ],
   "source": [
    "WebDriverWait(driver, 20).until(EC.element_to_be_clickable((By.XPATH, '//*[@id=\"MainCol\"]/div[2]/div/div[1]/button[7]'))).click()"
   ]
  }
 ],
 "metadata": {
  "kernelspec": {
   "display_name": "Python 3.10.6 64-bit",
   "language": "python",
   "name": "python3"
  },
  "language_info": {
   "codemirror_mode": {
    "name": "ipython",
    "version": 3
   },
   "file_extension": ".py",
   "mimetype": "text/x-python",
   "name": "python",
   "nbconvert_exporter": "python",
   "pygments_lexer": "ipython3",
   "version": "3.10.6"
  },
  "orig_nbformat": 4,
  "vscode": {
   "interpreter": {
    "hash": "a201bd2bcf2ce86bc96f6a534c05044cf84413470c383ec91327d1664300d02a"
   }
  }
 },
 "nbformat": 4,
 "nbformat_minor": 2
}
