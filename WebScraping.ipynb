{
 "cells": [
  {
   "cell_type": "code",
   "execution_count": 1,
   "metadata": {},
   "outputs": [],
   "source": [
    "from selenium import webdriver\n",
    "from selenium.webdriver.common.by import By\n",
    "from selenium.webdriver.support.ui import WebDriverWait\n",
    "from selenium.webdriver.common.by import By\n",
    "from selenium.webdriver.support import expected_conditions as EC\n",
    "import time"
   ]
  },
  {
   "cell_type": "code",
   "execution_count": 21,
   "metadata": {},
   "outputs": [
    {
     "name": "stderr",
     "output_type": "stream",
     "text": [
      "C:\\Users\\jelle\\AppData\\Local\\Temp\\ipykernel_8848\\525076050.py:4: DeprecationWarning: executable_path has been deprecated, please pass in a Service object\n",
      "  driver = webdriver.Chrome(executable_path=path, options=options)\n"
     ]
    }
   ],
   "source": [
    "url = 'https://www.glassdoor.co.in/Job/los-angeles-data-scientist-jobs-SRCH_IL.0,11_IC1146821_KE12,26.htm'\n",
    "path = 'C:/Users/jelle/OneDrive/Documenten/DigitalPower/chromedriver.exe'\n",
    "options = webdriver.ChromeOptions()\n",
    "driver = webdriver.Chrome(executable_path=path, options=options)\n",
    "driver.get(url)\n"
   ]
  },
  {
   "cell_type": "code",
   "execution_count": 36,
   "metadata": {},
   "outputs": [
    {
     "name": "stderr",
     "output_type": "stream",
     "text": [
      "C:\\Users\\jelle\\AppData\\Local\\Temp\\ipykernel_8848\\4069378838.py:4: DeprecationWarning: executable_path has been deprecated, please pass in a Service object\n",
      "  driver = webdriver.Chrome(executable_path=path, options=options)\n"
     ]
    },
    {
     "name": "stdout",
     "output_type": "stream",
     "text": [
      "writing successfull\n"
     ]
    },
    {
     "ename": "TimeoutException",
     "evalue": "Message: \n",
     "output_type": "error",
     "traceback": [
      "\u001b[1;31m---------------------------------------------------------------------------\u001b[0m",
      "\u001b[1;31mTimeoutException\u001b[0m                          Traceback (most recent call last)",
      "\u001b[1;32mc:\\Users\\jelle\\OneDrive\\Documenten\\Python\\DigitalPower\\DigitalPower\\WebScraping.ipynb Cell 3\u001b[0m in \u001b[0;36m<cell line: 13>\u001b[1;34m()\u001b[0m\n\u001b[0;32m     <a href='vscode-notebook-cell:/c%3A/Users/jelle/OneDrive/Documenten/Python/DigitalPower/DigitalPower/WebScraping.ipynb#W4sZmlsZQ%3D%3D?line=10'>11</a>\u001b[0m text_file\u001b[39m.\u001b[39mclose()\n\u001b[0;32m     <a href='vscode-notebook-cell:/c%3A/Users/jelle/OneDrive/Documenten/Python/DigitalPower/DigitalPower/WebScraping.ipynb#W4sZmlsZQ%3D%3D?line=11'>12</a>\u001b[0m \u001b[39mprint\u001b[39m(\u001b[39m'\u001b[39m\u001b[39mwriting successfull\u001b[39m\u001b[39m'\u001b[39m)\n\u001b[1;32m---> <a href='vscode-notebook-cell:/c%3A/Users/jelle/OneDrive/Documenten/Python/DigitalPower/DigitalPower/WebScraping.ipynb#W4sZmlsZQ%3D%3D?line=12'>13</a>\u001b[0m WebDriverWait(driver, \u001b[39m20\u001b[39m)\u001b[39m.\u001b[39muntil(EC\u001b[39m.\u001b[39melement_to_be_clickable((By\u001b[39m.\u001b[39mXPATH, \u001b[39m'\u001b[39m\u001b[39m//*[@id=\u001b[39m\u001b[39m\"\u001b[39m\u001b[39mMainCol\u001b[39m\u001b[39m\"\u001b[39m\u001b[39m]/div[2]/div/div[1]/button[7]\u001b[39m\u001b[39m'\u001b[39m)))\u001b[39m.\u001b[39mclick()\n\u001b[0;32m     <a href='vscode-notebook-cell:/c%3A/Users/jelle/OneDrive/Documenten/Python/DigitalPower/DigitalPower/WebScraping.ipynb#W4sZmlsZQ%3D%3D?line=13'>14</a>\u001b[0m data_set \u001b[39m=\u001b[39m driver\u001b[39m.\u001b[39mfind_element(By\u001b[39m.\u001b[39mXPATH, \u001b[39m'\u001b[39m\u001b[39m//*[@id=\u001b[39m\u001b[39m\"\u001b[39m\u001b[39mMainCol\u001b[39m\u001b[39m\"\u001b[39m\u001b[39m]/div[1]/ul\u001b[39m\u001b[39m'\u001b[39m)\n\u001b[0;32m     <a href='vscode-notebook-cell:/c%3A/Users/jelle/OneDrive/Documenten/Python/DigitalPower/DigitalPower/WebScraping.ipynb#W4sZmlsZQ%3D%3D?line=14'>15</a>\u001b[0m writing_thing \u001b[39m=\u001b[39m \u001b[39mstr\u001b[39m(data_set\u001b[39m.\u001b[39mtext)\n",
      "File \u001b[1;32mc:\\Users\\jelle\\AppData\\Local\\Programs\\Python\\Python310\\lib\\site-packages\\selenium\\webdriver\\support\\wait.py:87\u001b[0m, in \u001b[0;36mWebDriverWait.until\u001b[1;34m(self, method, message)\u001b[0m\n\u001b[0;32m     85\u001b[0m     \u001b[39mif\u001b[39;00m time\u001b[39m.\u001b[39mmonotonic() \u001b[39m>\u001b[39m end_time:\n\u001b[0;32m     86\u001b[0m         \u001b[39mbreak\u001b[39;00m\n\u001b[1;32m---> 87\u001b[0m \u001b[39mraise\u001b[39;00m TimeoutException(message, screen, stacktrace)\n",
      "\u001b[1;31mTimeoutException\u001b[0m: Message: \n"
     ]
    }
   ],
   "source": [
    "url = 'https://www.glassdoor.co.in/Job/los-angeles-data-scientist-jobs-SRCH_IL.0,11_IC1146821_KE12,26.htm'\n",
    "path = 'C:/Users/jelle/OneDrive/Documenten/DigitalPower/chromedriver.exe'\n",
    "options = webdriver.ChromeOptions()\n",
    "driver = webdriver.Chrome(executable_path=path, options=options)\n",
    "driver.get(url)\n",
    "\n",
    "data_set = driver.find_element(By.XPATH, '//*[@id=\"MainCol\"]/div[1]/ul')\n",
    "writing_thing = str(data_set.text)\n",
    "text_file = open(\"sample.txt\", \"w\")\n",
    "n = text_file.write(writing_thing)\n",
    "text_file.close()\n",
    "print('writing successfull')\n",
    "time.sleep(3)\n",
    "WebDriverWait(driver, 20).until(EC.element_to_be_clickable((By.XPATH, '//*[@id=\"MainCol\"]/div[2]/div/div[1]/button[7]'))).click()\n",
    "data_set = driver.find_element(By.XPATH, '//*[@id=\"MainCol\"]/div[1]/ul')\n",
    "writing_thing = str(data_set.text)\n",
    "text_file = open(\"sample2.txt\", \"w\")\n",
    "n = text_file.write(writing_thing)\n",
    "text_file.close()\n",
    "time.sleep(3)\n",
    "WebDriverWait(driver, 20).until(EC.element_to_be_clickable((By.XPATH, '//*[@id=\"MainCol\"]/div[2]/div/div[1]/button[7]'))).click()\n",
    "data_set = driver.find_element(By.XPATH, '//*[@id=\"MainCol\"]/div[1]/ul')\n",
    "writing_thing = str(data_set.text)\n",
    "text_file = open(\"sample3.txt\", \"w\")\n",
    "n = text_file.write(writing_thing)\n",
    "text_file.close()\n"
   ]
  },
  {
   "cell_type": "code",
   "execution_count": 29,
   "metadata": {},
   "outputs": [],
   "source": [
    "text_file = open(\"sample.txt\", \"w\")\n",
    "n = text_file.write(writing_thing)\n",
    "text_file.close()"
   ]
  },
  {
   "cell_type": "code",
   "execution_count": null,
   "metadata": {},
   "outputs": [],
   "source": [
    "# url = 'https://www.glassdoor.co.in/Job/los-angeles-data-scientist-jobs-SRCH_IL.0,11_IC1146821_KE12,26.htm'\n",
    "# path = 'C:/Users/jelle/OneDrive/Documenten/DigitalPower/chromedriver.exe'\n",
    "# options = webdriver.ChromeOptions()\n",
    "# driver = webdriver.Chrome(executable_path=path, options=options)\n",
    "# driver.get(url)\n",
    "# data = driver.find_element(By.XPATH,'//*[@id=\"MainCol\"]/div[1]/ul/li[1]/div[2]/div[1]').text\n",
    "# print(data)\n",
    "# data = driver.find_element(By.XPATH,'//*[@id=\"MainCol\"]/div[1]/ul/li[1]/div[2]/a').text\n",
    "# print(data)\n",
    "# data = driver.find_element(By.XPATH,'//*[@id=\"MainCol\"]/div[1]/ul/li[1]/div[2]/div[2]').text\n",
    "# print(data)\n",
    "# WebDriverWait(driver, 20).until(EC.element_to_be_clickable((By.XPATH, '//*[@id=\"MainCol\"]/div[2]/div/div[1]/button[7]'))).click()\n",
    "# time.sleep(0.5)\n",
    "# data = driver.find_element(By.XPATH,'//*[@id=\"MainCol\"]/div[1]/ul/li[1]/div[2]/div[1]').text\n",
    "# print(data)"
   ]
  },
  {
   "cell_type": "code",
   "execution_count": null,
   "metadata": {},
   "outputs": [],
   "source": []
  }
 ],
 "metadata": {
  "kernelspec": {
   "display_name": "Python 3.10.6 64-bit",
   "language": "python",
   "name": "python3"
  },
  "language_info": {
   "codemirror_mode": {
    "name": "ipython",
    "version": 3
   },
   "file_extension": ".py",
   "mimetype": "text/x-python",
   "name": "python",
   "nbconvert_exporter": "python",
   "pygments_lexer": "ipython3",
   "version": "3.10.6"
  },
  "orig_nbformat": 4,
  "vscode": {
   "interpreter": {
    "hash": "a201bd2bcf2ce86bc96f6a534c05044cf84413470c383ec91327d1664300d02a"
   }
  }
 },
 "nbformat": 4,
 "nbformat_minor": 2
}
