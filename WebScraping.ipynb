{
 "cells": [
  {
   "cell_type": "code",
   "execution_count": 1,
   "metadata": {},
   "outputs": [],
   "source": [
    "from selenium import webdriver\n",
    "from selenium.webdriver.common.by import By\n",
    "from selenium.webdriver.common.by import By\n",
    "import time"
   ]
  },
  {
   "cell_type": "code",
   "execution_count": 21,
   "metadata": {},
   "outputs": [
    {
     "name": "stderr",
     "output_type": "stream",
     "text": [
      "C:\\Users\\jelle\\AppData\\Local\\Temp\\ipykernel_8848\\525076050.py:4: DeprecationWarning: executable_path has been deprecated, please pass in a Service object\n",
      "  driver = webdriver.Chrome(executable_path=path, options=options)\n"
     ]
    }
   ],
   "source": [
    "url = 'https://www.glassdoor.co.in/Job/los-angeles-data-scientist-jobs-SRCH_IL.0,11_IC1146821_KE12,26.htm'\n",
    "path = 'C:/Users/jelle/OneDrive/Documenten/DigitalPower/chromedriver.exe'\n",
    "options = webdriver.ChromeOptions()\n",
    "driver = webdriver.Chrome(executable_path=path, options=options)\n",
    "driver.get(url)\n"
   ]
  },
  {
   "cell_type": "code",
   "execution_count": 6,
   "metadata": {},
   "outputs": [
    {
     "name": "stderr",
     "output_type": "stream",
     "text": [
      "C:\\Users\\jelle\\AppData\\Local\\Temp\\ipykernel_4016\\1082194291.py:4: DeprecationWarning: executable_path has been deprecated, please pass in a Service object\n",
      "  driver = webdriver.Chrome(executable_path=path, options=options)\n"
     ]
    },
    {
     "name": "stdout",
     "output_type": "stream",
     "text": [
      "writing successfull\n"
     ]
    }
   ],
   "source": [
    "url = 'https://www.glassdoor.co.in/Job/los-angeles-data-scientist-jobs-SRCH_IL.0,11_IC1146821_KE12,26.htm'\n",
    "path = 'C:/Users/jelle/OneDrive/Documenten/DigitalPower/chromedriver.exe'\n",
    "options = webdriver.ChromeOptions()\n",
    "driver = webdriver.Chrome(executable_path=path, options=options)\n",
    "driver.get(url)\n",
    "\n",
    "data_set = driver.find_element(By.XPATH, '//*[@id=\"MainCol\"]/div[1]/ul')\n",
    "writing_thing = str(data_set.text)\n",
    "text_file = open(\"sample.txt\", \"w\")\n",
    "n = text_file.write(writing_thing)\n",
    "text_file.close()\n",
    "print('writing successfull')\n",
    "time.sleep(3)\n",
    "button = driver.find_element(By.XPATH, '//*[@id=\"MainCol\"]/div[2]/div/div[1]/button[7]')\n",
    "driver.execute_script(\"arguments[0].click();\", button)\n",
    "\n",
    "data_set = driver.find_element(By.XPATH, '//*[@id=\"MainCol\"]/div[1]/ul')\n",
    "writing_thing = str(data_set.text)\n",
    "text_file = open(\"sample2.txt\", \"w\")\n",
    "n = text_file.write(writing_thing)\n",
    "text_file.close()\n",
    "time.sleep(3)\n",
    "button = driver.find_element(By.XPATH, '//*[@id=\"MainCol\"]/div[2]/div/div[1]/button[7]')\n",
    "driver.execute_script(\"arguments[0].click();\", button)\n",
    "\n",
    "data_set = driver.find_element(By.XPATH, '//*[@id=\"MainCol\"]/div[1]/ul')\n",
    "writing_thing = str(data_set.text)\n",
    "text_file = open(\"sample3.txt\", \"w\")\n",
    "n = text_file.write(writing_thing)\n",
    "text_file.close()\n",
    "\n",
    "time.sleep(3)\n",
    "button = driver.find_element(By.XPATH, '//*[@id=\"MainCol\"]/div[2]/div/div[1]/button[7]')\n",
    "driver.execute_script(\"arguments[0].click();\", button)\n",
    "\n",
    "data_set = driver.find_element(By.XPATH, '//*[@id=\"MainCol\"]/div[1]/ul')\n",
    "writing_thing = str(data_set.text)\n",
    "text_file = open(\"sample4.txt\", \"w\")\n",
    "n = text_file.write(writing_thing)\n",
    "text_file.close()\n"
   ]
  },
  {
   "cell_type": "code",
   "execution_count": 29,
   "metadata": {},
   "outputs": [],
   "source": [
    "text_file = open(\"sample.txt\", \"w\")\n",
    "n = text_file.write(writing_thing)\n",
    "text_file.close()"
   ]
  },
  {
   "cell_type": "code",
   "execution_count": null,
   "metadata": {},
   "outputs": [],
   "source": [
    "# url = 'https://www.glassdoor.co.in/Job/los-angeles-data-scientist-jobs-SRCH_IL.0,11_IC1146821_KE12,26.htm'\n",
    "# path = 'C:/Users/jelle/OneDrive/Documenten/DigitalPower/chromedriver.exe'\n",
    "# options = webdriver.ChromeOptions()\n",
    "# driver = webdriver.Chrome(executable_path=path, options=options)\n",
    "# driver.get(url)\n",
    "# data = driver.find_element(By.XPATH,'//*[@id=\"MainCol\"]/div[1]/ul/li[1]/div[2]/div[1]').text\n",
    "# print(data)\n",
    "# data = driver.find_element(By.XPATH,'//*[@id=\"MainCol\"]/div[1]/ul/li[1]/div[2]/a').text\n",
    "# print(data)\n",
    "# data = driver.find_element(By.XPATH,'//*[@id=\"MainCol\"]/div[1]/ul/li[1]/div[2]/div[2]').text\n",
    "# print(data)\n",
    "# WebDriverWait(driver, 20).until(EC.element_to_be_clickable((By.XPATH, '//*[@id=\"MainCol\"]/div[2]/div/div[1]/button[7]'))).click()\n",
    "# time.sleep(0.5)\n",
    "# data = driver.find_element(By.XPATH,'//*[@id=\"MainCol\"]/div[1]/ul/li[1]/div[2]/div[1]').text\n",
    "# print(data)"
   ]
  },
  {
   "cell_type": "code",
   "execution_count": null,
   "metadata": {},
   "outputs": [],
   "source": []
  }
 ],
 "metadata": {
  "kernelspec": {
   "display_name": "Python 3.10.6 64-bit",
   "language": "python",
   "name": "python3"
  },
  "language_info": {
   "codemirror_mode": {
    "name": "ipython",
    "version": 3
   },
   "file_extension": ".py",
   "mimetype": "text/x-python",
   "name": "python",
   "nbconvert_exporter": "python",
   "pygments_lexer": "ipython3",
   "version": "3.10.6"
  },
  "orig_nbformat": 4,
  "vscode": {
   "interpreter": {
    "hash": "a201bd2bcf2ce86bc96f6a534c05044cf84413470c383ec91327d1664300d02a"
   }
  }
 },
 "nbformat": 4,
 "nbformat_minor": 2
}
